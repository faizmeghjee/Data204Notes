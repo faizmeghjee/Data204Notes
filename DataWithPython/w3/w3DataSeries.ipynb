{
 "cells": [
  {
   "cell_type": "code",
   "execution_count": 66,
   "metadata": {},
   "outputs": [],
   "source": [
    "import pandas as pd\n",
    "import numpy as np\n",
    "from dateutil.parser import parse"
   ]
  },
  {
   "attachments": {},
   "cell_type": "markdown",
   "metadata": {},
   "source": [
    "Write a Pandas program to create and display a one-dimensional array-like object containing an array of data"
   ]
  },
  {
   "cell_type": "code",
   "execution_count": 67,
   "metadata": {},
   "outputs": [
    {
     "data": {
      "text/plain": [
       "0     2\n",
       "1     4\n",
       "2     6\n",
       "3     8\n",
       "4    10\n",
       "dtype: int64"
      ]
     },
     "execution_count": 67,
     "metadata": {},
     "output_type": "execute_result"
    }
   ],
   "source": [
    "data = pd.Series([2, 4, 6, 8, 10])\n",
    "data"
   ]
  },
  {
   "attachments": {},
   "cell_type": "markdown",
   "metadata": {},
   "source": [
    "Write a Pandas program to convert a Panda module Series to Python list and it's type."
   ]
  },
  {
   "cell_type": "code",
   "execution_count": 68,
   "metadata": {},
   "outputs": [
    {
     "data": {
      "text/plain": [
       "[2, 4, 6, 8, 10]"
      ]
     },
     "execution_count": 68,
     "metadata": {},
     "output_type": "execute_result"
    }
   ],
   "source": [
    "data_list = data.tolist()\n",
    "data_list"
   ]
  },
  {
   "cell_type": "code",
   "execution_count": 69,
   "metadata": {},
   "outputs": [
    {
     "data": {
      "text/plain": [
       "list"
      ]
     },
     "execution_count": 69,
     "metadata": {},
     "output_type": "execute_result"
    }
   ],
   "source": [
    "type(data_list)"
   ]
  },
  {
   "attachments": {},
   "cell_type": "markdown",
   "metadata": {},
   "source": [
    "Write a Pandas program to add, subtract, multiple and divide two Pandas Series."
   ]
  },
  {
   "cell_type": "code",
   "execution_count": 70,
   "metadata": {},
   "outputs": [
    {
     "data": {
      "text/plain": [
       "(0     3\n",
       " 1     7\n",
       " 2    11\n",
       " 3    15\n",
       " 4    19\n",
       " dtype: int64,\n",
       " 0    1\n",
       " 1    1\n",
       " 2    1\n",
       " 3    1\n",
       " 4    1\n",
       " dtype: int64,\n",
       " 0     2\n",
       " 1    12\n",
       " 2    30\n",
       " 3    56\n",
       " 4    90\n",
       " dtype: int64,\n",
       " 0    2.000000\n",
       " 1    1.333333\n",
       " 2    1.200000\n",
       " 3    1.142857\n",
       " 4    1.111111\n",
       " dtype: float64)"
      ]
     },
     "execution_count": 70,
     "metadata": {},
     "output_type": "execute_result"
    }
   ],
   "source": [
    "s1 = pd.Series([2, 4, 6, 8, 10])\n",
    "s2 = pd.Series([1, 3, 5, 7, 9])\n",
    "\n",
    "s1 + s2, s1 - s2, s1 * s2, s1 / s2"
   ]
  },
  {
   "attachments": {},
   "cell_type": "markdown",
   "metadata": {},
   "source": [
    "Write a Pandas program to compare the elements of the two Pandas Series."
   ]
  },
  {
   "cell_type": "code",
   "execution_count": 71,
   "metadata": {},
   "outputs": [
    {
     "data": {
      "text/plain": [
       "0    False\n",
       "1    False\n",
       "2    False\n",
       "3    False\n",
       "4    False\n",
       "dtype: bool"
      ]
     },
     "execution_count": 71,
     "metadata": {},
     "output_type": "execute_result"
    }
   ],
   "source": [
    "s1 == s2"
   ]
  },
  {
   "attachments": {},
   "cell_type": "markdown",
   "metadata": {},
   "source": [
    "Write a Pandas program to convert a dictionary to a Pandas series."
   ]
  },
  {
   "cell_type": "code",
   "execution_count": 72,
   "metadata": {},
   "outputs": [
    {
     "data": {
      "text/plain": [
       "a    100\n",
       "b    200\n",
       "c    300\n",
       "d    400\n",
       "e    800\n",
       "dtype: int64"
      ]
     },
     "execution_count": 72,
     "metadata": {},
     "output_type": "execute_result"
    }
   ],
   "source": [
    "my_dict = {\n",
    "    'a': 100, \n",
    "    'b': 200, \n",
    "    'c': 300, \n",
    "    'd': 400, \n",
    "    'e': 800\n",
    "    }\n",
    "\n",
    "dict_series = pd.Series(my_dict)\n",
    "dict_series"
   ]
  },
  {
   "attachments": {},
   "cell_type": "markdown",
   "metadata": {},
   "source": [
    "Write a Pandas program to convert a NumPy array to a Pandas series."
   ]
  },
  {
   "cell_type": "code",
   "execution_count": 73,
   "metadata": {},
   "outputs": [
    {
     "data": {
      "text/plain": [
       "0    10\n",
       "1    20\n",
       "2    30\n",
       "3    40\n",
       "4    50\n",
       "dtype: int32"
      ]
     },
     "execution_count": 73,
     "metadata": {},
     "output_type": "execute_result"
    }
   ],
   "source": [
    "arr = np.array([10, 20, 30, 40, 50])\n",
    "\n",
    "arr_series = pd.Series(arr)\n",
    "arr_series"
   ]
  },
  {
   "attachments": {},
   "cell_type": "markdown",
   "metadata": {},
   "source": [
    "Write a Pandas program to change the data type of given a column or a Series."
   ]
  },
  {
   "cell_type": "code",
   "execution_count": 74,
   "metadata": {},
   "outputs": [
    {
     "data": {
      "text/plain": [
       "0    100.00\n",
       "1    200.00\n",
       "2       NaN\n",
       "3    300.12\n",
       "4    400.00\n",
       "dtype: float64"
      ]
     },
     "execution_count": 74,
     "metadata": {},
     "output_type": "execute_result"
    }
   ],
   "source": [
    "q7 = pd.Series([100, 200, 'python', 300.12, 400])\n",
    "q7_num = pd.to_numeric(q7, errors='coerce')\n",
    "q7_num"
   ]
  },
  {
   "attachments": {},
   "cell_type": "markdown",
   "metadata": {},
   "source": [
    "Write a Pandas program to convert the first column of a DataFrame as a Series."
   ]
  },
  {
   "cell_type": "code",
   "execution_count": 75,
   "metadata": {},
   "outputs": [
    {
     "data": {
      "text/html": [
       "<div>\n",
       "<style scoped>\n",
       "    .dataframe tbody tr th:only-of-type {\n",
       "        vertical-align: middle;\n",
       "    }\n",
       "\n",
       "    .dataframe tbody tr th {\n",
       "        vertical-align: top;\n",
       "    }\n",
       "\n",
       "    .dataframe thead th {\n",
       "        text-align: right;\n",
       "    }\n",
       "</style>\n",
       "<table border=\"1\" class=\"dataframe\">\n",
       "  <thead>\n",
       "    <tr style=\"text-align: right;\">\n",
       "      <th></th>\n",
       "      <th>col1</th>\n",
       "      <th>col2</th>\n",
       "      <th>col3</th>\n",
       "    </tr>\n",
       "  </thead>\n",
       "  <tbody>\n",
       "    <tr>\n",
       "      <th>0</th>\n",
       "      <td>1</td>\n",
       "      <td>4</td>\n",
       "      <td>7</td>\n",
       "    </tr>\n",
       "    <tr>\n",
       "      <th>1</th>\n",
       "      <td>2</td>\n",
       "      <td>5</td>\n",
       "      <td>5</td>\n",
       "    </tr>\n",
       "    <tr>\n",
       "      <th>2</th>\n",
       "      <td>3</td>\n",
       "      <td>6</td>\n",
       "      <td>8</td>\n",
       "    </tr>\n",
       "    <tr>\n",
       "      <th>3</th>\n",
       "      <td>4</td>\n",
       "      <td>9</td>\n",
       "      <td>12</td>\n",
       "    </tr>\n",
       "    <tr>\n",
       "      <th>4</th>\n",
       "      <td>7</td>\n",
       "      <td>5</td>\n",
       "      <td>1</td>\n",
       "    </tr>\n",
       "    <tr>\n",
       "      <th>5</th>\n",
       "      <td>11</td>\n",
       "      <td>0</td>\n",
       "      <td>11</td>\n",
       "    </tr>\n",
       "  </tbody>\n",
       "</table>\n",
       "</div>"
      ],
      "text/plain": [
       "   col1  col2  col3\n",
       "0     1     4     7\n",
       "1     2     5     5\n",
       "2     3     6     8\n",
       "3     4     9    12\n",
       "4     7     5     1\n",
       "5    11     0    11"
      ]
     },
     "execution_count": 75,
     "metadata": {},
     "output_type": "execute_result"
    }
   ],
   "source": [
    "\n",
    "sample_dict = {\n",
    "    'col1': [1, 2, 3, 4, 7, 11],\n",
    "    'col2': [4, 5, 6, 9, 5, 0],\n",
    "    'col3': [7, 5, 8, 12, 1, 11]\n",
    "}\n",
    "\n",
    "df = pd.DataFrame(sample_dict)\n",
    "df"
   ]
  },
  {
   "cell_type": "code",
   "execution_count": 76,
   "metadata": {},
   "outputs": [
    {
     "data": {
      "text/plain": [
       "0     1\n",
       "1     2\n",
       "2     3\n",
       "3     4\n",
       "4     7\n",
       "5    11\n",
       "Name: col1, dtype: int64"
      ]
     },
     "execution_count": 76,
     "metadata": {},
     "output_type": "execute_result"
    }
   ],
   "source": [
    "df.loc[:, 'col1']"
   ]
  },
  {
   "attachments": {},
   "cell_type": "markdown",
   "metadata": {},
   "source": [
    "Write a Pandas program to convert a given Series to an array."
   ]
  },
  {
   "cell_type": "code",
   "execution_count": 77,
   "metadata": {},
   "outputs": [
    {
     "data": {
      "text/plain": [
       "<PandasArray>\n",
       "[100, 200, 'python', 300.12, 400]\n",
       "Length: 5, dtype: object"
      ]
     },
     "execution_count": 77,
     "metadata": {},
     "output_type": "execute_result"
    }
   ],
   "source": [
    "q9 = pd.Series([100, 200, 'python', 300.12, 400])\n",
    "q9_arr = pd.array(q9)\n",
    "q9_arr"
   ]
  },
  {
   "attachments": {},
   "cell_type": "markdown",
   "metadata": {},
   "source": [
    "Write a Pandas program to convert Series of lists to one Series. "
   ]
  },
  {
   "cell_type": "code",
   "execution_count": 78,
   "metadata": {},
   "outputs": [
    {
     "data": {
      "text/plain": [
       "0       Red\n",
       "1     Green\n",
       "2     White\n",
       "3       Red\n",
       "4     Black\n",
       "5    Yellow\n",
       "dtype: object"
      ]
     },
     "execution_count": 78,
     "metadata": {},
     "output_type": "execute_result"
    }
   ],
   "source": [
    "q10 = pd.Series([['Red', 'Green', 'White'], ['Red', 'Black'], ['Yellow']])\n",
    "q10 = q10.apply(pd.Series).stack().reset_index(drop=True)\n",
    "q10"
   ]
  },
  {
   "attachments": {},
   "cell_type": "markdown",
   "metadata": {},
   "source": [
    "Write a Pandas program to sort a given Series. "
   ]
  },
  {
   "cell_type": "code",
   "execution_count": 79,
   "metadata": {},
   "outputs": [
    {
     "data": {
      "text/plain": [
       "0       100\n",
       "1       200\n",
       "3    300.12\n",
       "4       400\n",
       "2    python\n",
       "dtype: object"
      ]
     },
     "execution_count": 79,
     "metadata": {},
     "output_type": "execute_result"
    }
   ],
   "source": [
    "q11 = pd.Series(['100', '200', 'python', '300.12', '400'])\n",
    "\n",
    "q11_sorted = pd.Series(q11).sort_values()\n",
    "q11_sorted"
   ]
  },
  {
   "attachments": {},
   "cell_type": "markdown",
   "metadata": {},
   "source": [
    "Write a Pandas program to add some data to an existing Series. "
   ]
  },
  {
   "cell_type": "code",
   "execution_count": 80,
   "metadata": {},
   "outputs": [
    {
     "name": "stderr",
     "output_type": "stream",
     "text": [
      "C:\\Users\\faizm\\AppData\\Local\\Temp\\ipykernel_5504\\508795828.py:2: FutureWarning: The series.append method is deprecated and will be removed from pandas in a future version. Use pandas.concat instead.\n",
      "  q12 = q12.append(pd.Series([500, 'php']), ignore_index=True)\n"
     ]
    },
    {
     "data": {
      "text/plain": [
       "0       100\n",
       "1       200\n",
       "2    python\n",
       "3    300.12\n",
       "4       400\n",
       "5       500\n",
       "6       php\n",
       "dtype: object"
      ]
     },
     "execution_count": 80,
     "metadata": {},
     "output_type": "execute_result"
    }
   ],
   "source": [
    "q12 = pd.Series(['100', '200', 'python', '300.12', '400'])\n",
    "q12 = q12.append(pd.Series([500, 'php']), ignore_index=True)\n",
    "q12"
   ]
  },
  {
   "attachments": {},
   "cell_type": "markdown",
   "metadata": {},
   "source": [
    "Write a Pandas program to create a subset of a given series based on value and condition."
   ]
  },
  {
   "cell_type": "code",
   "execution_count": 81,
   "metadata": {},
   "outputs": [
    {
     "data": {
      "text/plain": [
       "0    0\n",
       "1    1\n",
       "2    2\n",
       "3    3\n",
       "4    4\n",
       "5    5\n",
       "dtype: int64"
      ]
     },
     "execution_count": 81,
     "metadata": {},
     "output_type": "execute_result"
    }
   ],
   "source": [
    "q13 = pd.Series([0, 1, 2, 3, 4, 5, 6, 7, 8, 9, 10])\n",
    "q13[q13 <= 5]"
   ]
  },
  {
   "attachments": {},
   "cell_type": "markdown",
   "metadata": {},
   "source": [
    "Write a Pandas program to change the order of index of a given series."
   ]
  },
  {
   "cell_type": "code",
   "execution_count": 82,
   "metadata": {},
   "outputs": [
    {
     "data": {
      "text/plain": [
       "B    2\n",
       "A    1\n",
       "C    3\n",
       "D    4\n",
       "E    5\n",
       "dtype: int64"
      ]
     },
     "execution_count": 82,
     "metadata": {},
     "output_type": "execute_result"
    }
   ],
   "source": [
    "q14 = pd.Series(data = [1,2,3,4,5], index = ['A', 'B', 'C','D','E'])\n",
    "q14.reindex(['B','A', 'C', 'D', 'E'])\n",
    "q14.reindex(index=['B','A', 'C', 'D', 'E'])"
   ]
  },
  {
   "attachments": {},
   "cell_type": "markdown",
   "metadata": {},
   "source": [
    " Write a Pandas program to create the mean and standard deviation of the data of a given Series."
   ]
  },
  {
   "cell_type": "code",
   "execution_count": 83,
   "metadata": {},
   "outputs": [
    {
     "data": {
      "text/plain": [
       "(2.522624895547565, 4.818181818181818)"
      ]
     },
     "execution_count": 83,
     "metadata": {},
     "output_type": "execute_result"
    }
   ],
   "source": [
    "q15 = pd.Series(data = [1,2,3,4,5,6,7,8,9,5,3])\n",
    "\n",
    "st_d = q15.std()\n",
    "avg = q15.mean()\n",
    "\n",
    "st_d, avg"
   ]
  },
  {
   "attachments": {},
   "cell_type": "markdown",
   "metadata": {},
   "source": [
    "Write a Pandas program to get the items of a given series not present in another given series."
   ]
  },
  {
   "cell_type": "code",
   "execution_count": 84,
   "metadata": {},
   "outputs": [
    {
     "data": {
      "text/plain": [
       "0    1\n",
       "2    3\n",
       "4    5\n",
       "dtype: int64"
      ]
     },
     "execution_count": 84,
     "metadata": {},
     "output_type": "execute_result"
    }
   ],
   "source": [
    "sr1 = pd.Series([1, 2, 3, 4, 5])\n",
    "sr2 = pd.Series([2, 4, 6, 8, 10])\n",
    "\n",
    "result = sr1[~sr1.isin(sr2)] # Checking what from the first list is not in the second list\n",
    "result"
   ]
  },
  {
   "attachments": {},
   "cell_type": "markdown",
   "metadata": {},
   "source": [
    "Write a Pandas program to get the items which are not common of two given series."
   ]
  },
  {
   "cell_type": "code",
   "execution_count": 85,
   "metadata": {},
   "outputs": [
    {
     "name": "stdout",
     "output_type": "stream",
     "text": [
      "\n",
      "Items of a given series not present in another given series:\n",
      "0     1\n",
      "2     3\n",
      "4     5\n",
      "5     6\n",
      "6     8\n",
      "7    10\n",
      "dtype: int64\n"
     ]
    }
   ],
   "source": [
    "sr1 = pd.Series([1, 2, 3, 4, 5])\n",
    "sr2 = pd.Series([2, 4, 6, 8, 10])\n",
    "\n",
    "print(\"\\nItems of a given series not present in another given series:\")\n",
    "sr11 = pd.Series(np.union1d(sr1, sr2)) # A series of all the numbers from both series, with no duplicates\n",
    "sr22 = pd.Series(np.intersect1d(sr1, sr2)) # A series of common numbers\n",
    "result = sr11[~sr11.isin(sr22)] # Checking to see what numbers are not in the common series\n",
    "print(result)"
   ]
  },
  {
   "attachments": {},
   "cell_type": "markdown",
   "metadata": {},
   "source": [
    "Write a Pandas program to compute the minimum, 25th percentile, median, 75th, and maximum of a given series"
   ]
  },
  {
   "cell_type": "code",
   "execution_count": 86,
   "metadata": {},
   "outputs": [
    {
     "name": "stdout",
     "output_type": "stream",
     "text": [
      "[ 3.00093811  8.09463867 10.23353705 12.21537733 14.61214321]\n"
     ]
    }
   ],
   "source": [
    "nums = np.random.RandomState(100)\n",
    "nums_series = pd.Series(nums.normal(10, 4, 20)) # loc(mean_centre), scale(standard deviation), size(size)\n",
    "\n",
    "res = np.percentile(nums_series, q=[0, 25, 50, 75, 100]) # select the values from the array at given percentiles\n",
    "print(res)"
   ]
  },
  {
   "attachments": {},
   "cell_type": "markdown",
   "metadata": {},
   "source": [
    "Write a Pandas program to calculate the frequency counts of each unique value of a given series. "
   ]
  },
  {
   "cell_type": "code",
   "execution_count": 87,
   "metadata": {},
   "outputs": [
    {
     "data": {
      "text/plain": [
       "6    6\n",
       "7    6\n",
       "9    6\n",
       "8    5\n",
       "5    4\n",
       "0    4\n",
       "2    3\n",
       "1    2\n",
       "3    2\n",
       "4    2\n",
       "dtype: int64"
      ]
     },
     "execution_count": 87,
     "metadata": {},
     "output_type": "execute_result"
    }
   ],
   "source": [
    "numbers = pd.Series(np.take(list('0123456789'), np.random.randint(10, size=40)))\n",
    "result = numbers.value_counts()\n",
    "result"
   ]
  },
  {
   "attachments": {},
   "cell_type": "markdown",
   "metadata": {},
   "source": [
    "Write a Pandas program to display most frequent value in a given series and replace everything else as 'Other' in the series."
   ]
  },
  {
   "cell_type": "code",
   "execution_count": 88,
   "metadata": {},
   "outputs": [
    {
     "name": "stdout",
     "output_type": "stream",
     "text": [
      "Original Series:\n",
      "0     4\n",
      "1     3\n",
      "2     3\n",
      "3     2\n",
      "4     3\n",
      "5     1\n",
      "6     4\n",
      "7     1\n",
      "8     1\n",
      "9     4\n",
      "10    2\n",
      "11    1\n",
      "12    1\n",
      "13    2\n",
      "14    4\n",
      "dtype: int32\n",
      "Top 2 Freq: 1    5\n",
      "4    4\n",
      "3    3\n",
      "2    3\n",
      "dtype: int64\n"
     ]
    },
    {
     "data": {
      "text/plain": [
       "0     Other\n",
       "1     Other\n",
       "2     Other\n",
       "3     Other\n",
       "4     Other\n",
       "5         1\n",
       "6     Other\n",
       "7         1\n",
       "8         1\n",
       "9     Other\n",
       "10    Other\n",
       "11        1\n",
       "12        1\n",
       "13    Other\n",
       "14    Other\n",
       "dtype: object"
      ]
     },
     "execution_count": 88,
     "metadata": {},
     "output_type": "execute_result"
    }
   ],
   "source": [
    "np.random.RandomState(100)\n",
    "num_series = pd.Series(np.random.randint(1, 5, [15]))\n",
    "print(\"Original Series:\")\n",
    "print(num_series)\n",
    "print(\"Top 2 Freq:\", num_series.value_counts())\n",
    "result = num_series[~num_series.isin(num_series.value_counts().index[:1])] = 'Other'\n",
    "num_series"
   ]
  },
  {
   "attachments": {},
   "cell_type": "markdown",
   "metadata": {},
   "source": [
    "Write a Pandas program to find the positions of numbers that are multiples of 5 of a given series."
   ]
  },
  {
   "cell_type": "code",
   "execution_count": 89,
   "metadata": {},
   "outputs": [
    {
     "data": {
      "text/plain": [
       "(array([3, 6], dtype=int64),)"
      ]
     },
     "execution_count": 89,
     "metadata": {},
     "output_type": "execute_result"
    }
   ],
   "source": [
    "q21 = pd.Series(np.random.randint(1, 10, 9))\n",
    "res = np.where(q21 % 5 == 0)\n",
    "res"
   ]
  },
  {
   "attachments": {},
   "cell_type": "markdown",
   "metadata": {},
   "source": [
    "Write a Pandas program to extract items at given positions of a given series. "
   ]
  },
  {
   "cell_type": "code",
   "execution_count": 90,
   "metadata": {},
   "outputs": [
    {
     "data": {
      "text/plain": [
       "0     5\n",
       "2     2\n",
       "3     4\n",
       "11    1\n",
       "dtype: int32"
      ]
     },
     "execution_count": 90,
     "metadata": {},
     "output_type": "execute_result"
    }
   ],
   "source": [
    "q22 = pd.Series(np.random.randint(0, 10, 22))\n",
    "q22.take([0, 2, 3, 11]) # Selecting numbers based on index"
   ]
  },
  {
   "attachments": {},
   "cell_type": "markdown",
   "metadata": {},
   "source": [
    "Write a Pandas program to get the positions of items of a given series in another given series."
   ]
  },
  {
   "cell_type": "code",
   "execution_count": 91,
   "metadata": {},
   "outputs": [
    {
     "name": "stdout",
     "output_type": "stream",
     "text": [
      "Positions of items of series2 in series1:\n"
     ]
    },
    {
     "data": {
      "text/plain": [
       "[0, 2, 4, 6, 9]"
      ]
     },
     "execution_count": 91,
     "metadata": {},
     "output_type": "execute_result"
    }
   ],
   "source": [
    "q23a = pd.Series([1, 2, 3, 4, 5, 6, 7, 8, 9, 10])\n",
    "q23b = pd.Series([1, 3, 5, 7, 10])\n",
    "result = [pd.Index(q23a).get_loc(i) for i in q23b]\n",
    "print(\"Positions of items of series2 in series1:\")\n",
    "result"
   ]
  },
  {
   "attachments": {},
   "cell_type": "markdown",
   "metadata": {},
   "source": [
    "Write a Pandas program convert the first and last character of each word to upper case in each word of a given series."
   ]
  },
  {
   "cell_type": "code",
   "execution_count": 92,
   "metadata": {},
   "outputs": [
    {
     "name": "stdout",
     "output_type": "stream",
     "text": [
      "Original Series:\n",
      "0       php\n",
      "1    python\n",
      "2      java\n",
      "3        c#\n",
      "dtype: object\n",
      "\n",
      "First and last character of each word to upper case:\n",
      "0       PhP\n",
      "1    PythoN\n",
      "2      JavA\n",
      "3        C#\n",
      "dtype: object\n"
     ]
    }
   ],
   "source": [
    "q24 = pd.Series(['php', 'python', 'java', 'c#'])\n",
    "print(\"Original Series:\")\n",
    "print(q24)\n",
    "result = q24.map(lambda x: x[0].upper() + x[1:-1] + x[-1].upper())\n",
    "print(\"\\nFirst and last character of each word to upper case:\")\n",
    "print(result)"
   ]
  },
  {
   "attachments": {},
   "cell_type": "markdown",
   "metadata": {},
   "source": [
    "Write a Pandas program to calculate the number of characters in each word in a given series."
   ]
  },
  {
   "cell_type": "code",
   "execution_count": 93,
   "metadata": {},
   "outputs": [
    {
     "name": "stdout",
     "output_type": "stream",
     "text": [
      "Original Series:\n",
      "0       php\n",
      "1    python\n",
      "2      java\n",
      "3        c#\n",
      "dtype: object\n",
      "\n",
      "Number of characters in each word in the said series:\n",
      "0    3\n",
      "1    6\n",
      "2    4\n",
      "3    2\n",
      "dtype: int64\n"
     ]
    }
   ],
   "source": [
    "q25 = pd.Series(['php', 'python', 'java', 'c#'])\n",
    "print(\"Original Series:\")\n",
    "print(q25)\n",
    "result = q25.map(lambda x: len(x))\n",
    "print(\"\\nNumber of characters in each word in the said series:\")\n",
    "print(result)"
   ]
  },
  {
   "attachments": {},
   "cell_type": "markdown",
   "metadata": {},
   "source": [
    "Write a Pandas program to compute difference of differences between consecutive numbers of a given series. "
   ]
  },
  {
   "cell_type": "code",
   "execution_count": 94,
   "metadata": {},
   "outputs": [
    {
     "name": "stdout",
     "output_type": "stream",
     "text": [
      "Original Series:\n",
      "0     1\n",
      "1     3\n",
      "2     5\n",
      "3     8\n",
      "4    10\n",
      "5    11\n",
      "6    15\n",
      "dtype: int64\n",
      "\n",
      "Difference of differences between consecutive numbers of the said series:\n",
      "[nan, 2.0, 2.0, 3.0, 2.0, 1.0, 4.0]\n",
      "[nan, nan, 0.0, 1.0, -1.0, -1.0, 3.0]\n"
     ]
    }
   ],
   "source": [
    "series1 = pd.Series([1, 3, 5, 8, 10, 11, 15])\n",
    "print(\"Original Series:\")\n",
    "print(series1)\n",
    "print(\"\\nDifference of differences between consecutive numbers of the said series:\")\n",
    "print(series1.diff().tolist())\n",
    "print(series1.diff().diff().tolist())"
   ]
  },
  {
   "attachments": {},
   "cell_type": "markdown",
   "metadata": {},
   "source": [
    "Write a Pandas program to convert a series of date strings to a timeseries."
   ]
  },
  {
   "cell_type": "code",
   "execution_count": 95,
   "metadata": {},
   "outputs": [
    {
     "name": "stdout",
     "output_type": "stream",
     "text": [
      "Original Series:\n",
      "0         01 Jan 2015\n",
      "1          10-02-2016\n",
      "2            20180307\n",
      "3          2014/05/06\n",
      "4          2016-04-12\n",
      "5    2019-04-06T11:20\n",
      "dtype: object\n",
      "\n",
      "Series of date strings to a timeseries:\n",
      "0   2015-01-01 00:00:00\n",
      "1   2016-10-02 00:00:00\n",
      "2   2018-03-07 00:00:00\n",
      "3   2014-05-06 00:00:00\n",
      "4   2016-04-12 00:00:00\n",
      "5   2019-04-06 11:20:00\n",
      "dtype: datetime64[ns]\n"
     ]
    }
   ],
   "source": [
    "date_series = pd.Series(['01 Jan 2015', '10-02-2016', '20180307', '2014/05/06', '2016-04-12', '2019-04-06T11:20'])\n",
    "print(\"Original Series:\")\n",
    "print(date_series)\n",
    "print(\"\\nSeries of date strings to a timeseries:\")\n",
    "print(pd.to_datetime(date_series))"
   ]
  },
  {
   "attachments": {},
   "cell_type": "markdown",
   "metadata": {},
   "source": [
    "Write a Pandas program to get the day of month, day of year, week number and day of week from a given series of date strings."
   ]
  },
  {
   "cell_type": "code",
   "execution_count": 97,
   "metadata": {},
   "outputs": [
    {
     "name": "stdout",
     "output_type": "stream",
     "text": [
      "Original Series:\n",
      "0         01 Jan 2015\n",
      "1          10-02-2016\n",
      "2            20180307\n",
      "3          2014/05/06\n",
      "4          2016-04-12\n",
      "5    2019-04-06T11:20\n",
      "dtype: object\n",
      "Day of month:\n",
      "[1, 2, 7, 6, 12, 6]\n",
      "Day of year:\n",
      "[1, 276, 66, 126, 103, 96]\n",
      "Week number:\n",
      "[1, 39, 10, 19, 15, 14]\n",
      "Day of week:\n"
     ]
    },
    {
     "name": "stderr",
     "output_type": "stream",
     "text": [
      "C:\\Users\\faizm\\AppData\\Local\\Temp\\ipykernel_5504\\867739115.py:10: FutureWarning: Series.dt.weekofyear and Series.dt.week have been deprecated. Please use Series.dt.isocalendar().week instead.\n",
      "  print(date_series.dt.weekofyear.tolist())\n"
     ]
    }
   ],
   "source": [
    "date_series = pd.Series(['01 Jan 2015', '10-02-2016', '20180307', '2014/05/06', '2016-04-12', '2019-04-06T11:20'])\n",
    "print(\"Original Series:\")\n",
    "print(date_series)\n",
    "date_series = date_series.map(lambda x: parse(x))\n",
    "print(\"Day of month:\")\n",
    "print(date_series.dt.day.tolist())\n",
    "print(\"Day of year:\")\n",
    "print(date_series.dt.dayofyear.tolist())\n",
    "print(\"Week number:\")\n",
    "print(date_series.dt.weekofyear.tolist())\n",
    "print(\"Day of week:\")\n",
    "# print(date_series.dt.weekday_name.tolist())"
   ]
  },
  {
   "cell_type": "markdown",
   "metadata": {},
   "source": []
  }
 ],
 "metadata": {
  "kernelspec": {
   "display_name": "venv",
   "language": "python",
   "name": "python3"
  },
  "language_info": {
   "codemirror_mode": {
    "name": "ipython",
    "version": 3
   },
   "file_extension": ".py",
   "mimetype": "text/x-python",
   "name": "python",
   "nbconvert_exporter": "python",
   "pygments_lexer": "ipython3",
   "version": "3.11.1"
  },
  "orig_nbformat": 4,
  "vscode": {
   "interpreter": {
    "hash": "028d03bf64fb416e181e9df1b5529827243ae26f56d635d9a0fd370cea32bf0c"
   }
  }
 },
 "nbformat": 4,
 "nbformat_minor": 2
}
