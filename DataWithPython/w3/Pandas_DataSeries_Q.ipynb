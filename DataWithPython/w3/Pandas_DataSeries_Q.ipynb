{
 "cells": [
  {
   "cell_type": "code",
   "execution_count": 66,
   "metadata": {},
   "outputs": [],
   "source": [
    "import pandas as pd\n",
    "import numpy as np"
   ]
  },
  {
   "attachments": {},
   "cell_type": "markdown",
   "metadata": {},
   "source": [
    "1. Write a Pandas program to create and display a one-dimensional array-like object containing an array of data using Pandas module."
   ]
  },
  {
   "cell_type": "code",
   "execution_count": 67,
   "metadata": {},
   "outputs": [
    {
     "data": {
      "text/plain": [
       "0     2\n",
       "1     4\n",
       "2     6\n",
       "3     8\n",
       "4    10\n",
       "dtype: int64"
      ]
     },
     "execution_count": 67,
     "metadata": {},
     "output_type": "execute_result"
    }
   ],
   "source": [
    "ds = pd.Series([2,4,6,8,10])\n",
    "ds"
   ]
  },
  {
   "attachments": {},
   "cell_type": "markdown",
   "metadata": {},
   "source": [
    "2. Write a Pandas program to convert a Panda module Series to Python list and it's type. "
   ]
  },
  {
   "cell_type": "code",
   "execution_count": 68,
   "metadata": {},
   "outputs": [
    {
     "data": {
      "text/plain": [
       "[2, 4, 6, 8, 10]"
      ]
     },
     "execution_count": 68,
     "metadata": {},
     "output_type": "execute_result"
    }
   ],
   "source": [
    "data = ds.tolist()\n",
    "data"
   ]
  },
  {
   "cell_type": "code",
   "execution_count": 69,
   "metadata": {},
   "outputs": [
    {
     "name": "stdout",
     "output_type": "stream",
     "text": [
      "<class 'list'>\n"
     ]
    }
   ],
   "source": [
    "print(type(data))"
   ]
  },
  {
   "attachments": {},
   "cell_type": "markdown",
   "metadata": {},
   "source": [
    "3. Write a Pandas program to add, subtract, multiple and divide two Pandas Series."
   ]
  },
  {
   "cell_type": "code",
   "execution_count": 70,
   "metadata": {},
   "outputs": [
    {
     "data": {
      "text/plain": [
       "(0     3\n",
       " 1     7\n",
       " 2    11\n",
       " 3    15\n",
       " 4    19\n",
       " dtype: int64,\n",
       " 0    1\n",
       " 1    1\n",
       " 2    1\n",
       " 3    1\n",
       " 4    1\n",
       " dtype: int64,\n",
       " 0     2\n",
       " 1    12\n",
       " 2    30\n",
       " 3    56\n",
       " 4    90\n",
       " dtype: int64,\n",
       " 0    2.000000\n",
       " 1    1.333333\n",
       " 2    1.200000\n",
       " 3    1.142857\n",
       " 4    1.111111\n",
       " dtype: float64)"
      ]
     },
     "execution_count": 70,
     "metadata": {},
     "output_type": "execute_result"
    }
   ],
   "source": [
    "list1 = pd.Series([2, 4, 6, 8, 10])\n",
    "list2 = pd.Series([1, 3, 5, 7, 9])\n",
    "\n",
    "list1 + list2, list1 - list2, list1*list2,list1/list2"
   ]
  },
  {
   "attachments": {},
   "cell_type": "markdown",
   "metadata": {},
   "source": [
    "4. Write a Pandas program to compare the elements of the two Pandas Series."
   ]
  },
  {
   "cell_type": "code",
   "execution_count": 71,
   "metadata": {},
   "outputs": [
    {
     "data": {
      "text/plain": [
       "0    False\n",
       "1    False\n",
       "2    False\n",
       "3    False\n",
       "4    False\n",
       "dtype: bool"
      ]
     },
     "execution_count": 71,
     "metadata": {},
     "output_type": "execute_result"
    }
   ],
   "source": [
    "list1 == list2"
   ]
  },
  {
   "attachments": {},
   "cell_type": "markdown",
   "metadata": {},
   "source": [
    "5. Write a Pandas program to convert a dictionary to a Pandas series."
   ]
  },
  {
   "cell_type": "code",
   "execution_count": 72,
   "metadata": {},
   "outputs": [
    {
     "data": {
      "text/plain": [
       "a    100\n",
       "b    200\n",
       "c    300\n",
       "d    400\n",
       "e    800\n",
       "dtype: int64"
      ]
     },
     "execution_count": 72,
     "metadata": {},
     "output_type": "execute_result"
    }
   ],
   "source": [
    "ogdict = {\n",
    "    'a': 100,\n",
    "    'b': 200,\n",
    "    'c': 300,\n",
    "    'd': 400,\n",
    "    'e': 800\n",
    "}\n",
    "\n",
    "ogdictseries = pd.Series(ogdict)\n",
    "ogdictseries"
   ]
  },
  {
   "attachments": {},
   "cell_type": "markdown",
   "metadata": {},
   "source": [
    "6. Write a Pandas program to convert a NumPy array to a Pandas series. "
   ]
  },
  {
   "cell_type": "code",
   "execution_count": 73,
   "metadata": {},
   "outputs": [
    {
     "data": {
      "text/plain": [
       "0    10\n",
       "1    20\n",
       "2    30\n",
       "3    40\n",
       "4    50\n",
       "dtype: int32"
      ]
     },
     "execution_count": 73,
     "metadata": {},
     "output_type": "execute_result"
    }
   ],
   "source": [
    "numarr = [10, 20, 30, 40, 50]\n",
    "numarr = np.array(numarr)\n",
    "\n",
    "numarr = pd.Series(numarr)\n",
    "numarr"
   ]
  },
  {
   "attachments": {},
   "cell_type": "markdown",
   "metadata": {},
   "source": [
    "7. Write a Pandas program to change the data type of given a column or a Series.\n",
    "#convert list into numeric data"
   ]
  },
  {
   "cell_type": "code",
   "execution_count": 74,
   "metadata": {},
   "outputs": [
    {
     "data": {
      "text/plain": [
       "0       100\n",
       "1       200\n",
       "2    python\n",
       "3    300.12\n",
       "4       400\n",
       "dtype: object"
      ]
     },
     "execution_count": 74,
     "metadata": {},
     "output_type": "execute_result"
    }
   ],
   "source": [
    "sample = [100, 200, 'python', 300.12, 400]\n",
    "samples = pd.Series(sample)\n",
    "\n",
    "samples"
   ]
  },
  {
   "cell_type": "code",
   "execution_count": 75,
   "metadata": {},
   "outputs": [
    {
     "data": {
      "text/plain": [
       "0    100.00\n",
       "1    200.00\n",
       "2       NaN\n",
       "3    300.12\n",
       "4    400.00\n",
       "dtype: float64"
      ]
     },
     "execution_count": 75,
     "metadata": {},
     "output_type": "execute_result"
    }
   ],
   "source": [
    "samples_num = pd.to_numeric(samples, errors='coerce')\n",
    "samples_num"
   ]
  },
  {
   "attachments": {},
   "cell_type": "markdown",
   "metadata": {},
   "source": [
    "8. Write a Pandas program to convert the first column of a DataFrame as a Series."
   ]
  },
  {
   "cell_type": "code",
   "execution_count": 76,
   "metadata": {},
   "outputs": [
    {
     "data": {
      "text/html": [
       "<div>\n",
       "<style scoped>\n",
       "    .dataframe tbody tr th:only-of-type {\n",
       "        vertical-align: middle;\n",
       "    }\n",
       "\n",
       "    .dataframe tbody tr th {\n",
       "        vertical-align: top;\n",
       "    }\n",
       "\n",
       "    .dataframe thead th {\n",
       "        text-align: right;\n",
       "    }\n",
       "</style>\n",
       "<table border=\"1\" class=\"dataframe\">\n",
       "  <thead>\n",
       "    <tr style=\"text-align: right;\">\n",
       "      <th></th>\n",
       "      <th>col1</th>\n",
       "      <th>col2</th>\n",
       "      <th>col3</th>\n",
       "    </tr>\n",
       "  </thead>\n",
       "  <tbody>\n",
       "    <tr>\n",
       "      <th>0</th>\n",
       "      <td>1</td>\n",
       "      <td>4</td>\n",
       "      <td>7</td>\n",
       "    </tr>\n",
       "    <tr>\n",
       "      <th>1</th>\n",
       "      <td>2</td>\n",
       "      <td>5</td>\n",
       "      <td>5</td>\n",
       "    </tr>\n",
       "    <tr>\n",
       "      <th>2</th>\n",
       "      <td>3</td>\n",
       "      <td>6</td>\n",
       "      <td>8</td>\n",
       "    </tr>\n",
       "    <tr>\n",
       "      <th>3</th>\n",
       "      <td>4</td>\n",
       "      <td>9</td>\n",
       "      <td>12</td>\n",
       "    </tr>\n",
       "    <tr>\n",
       "      <th>4</th>\n",
       "      <td>7</td>\n",
       "      <td>5</td>\n",
       "      <td>1</td>\n",
       "    </tr>\n",
       "    <tr>\n",
       "      <th>5</th>\n",
       "      <td>11</td>\n",
       "      <td>0</td>\n",
       "      <td>11</td>\n",
       "    </tr>\n",
       "  </tbody>\n",
       "</table>\n",
       "</div>"
      ],
      "text/plain": [
       "   col1  col2  col3\n",
       "0     1     4     7\n",
       "1     2     5     5\n",
       "2     3     6     8\n",
       "3     4     9    12\n",
       "4     7     5     1\n",
       "5    11     0    11"
      ]
     },
     "execution_count": 76,
     "metadata": {},
     "output_type": "execute_result"
    }
   ],
   "source": [
    "sd = {\n",
    "    'col1':[1,2,3,4,7,11],\n",
    "    'col2':[4,5,6,9,5,0],\n",
    "    'col3':[7,5,8,12,1,11]\n",
    "}\n",
    "\n",
    "df = pd.DataFrame(sd)\n",
    "df"
   ]
  },
  {
   "cell_type": "code",
   "execution_count": 77,
   "metadata": {},
   "outputs": [
    {
     "data": {
      "text/plain": [
       "0     1\n",
       "1     2\n",
       "2     3\n",
       "3     4\n",
       "4     7\n",
       "5    11\n",
       "Name: col1, dtype: int64"
      ]
     },
     "execution_count": 77,
     "metadata": {},
     "output_type": "execute_result"
    }
   ],
   "source": [
    "df.loc[:,'col1']"
   ]
  },
  {
   "attachments": {},
   "cell_type": "markdown",
   "metadata": {},
   "source": [
    "9. Write a Pandas program to convert a given Series to an array."
   ]
  },
  {
   "cell_type": "code",
   "execution_count": 78,
   "metadata": {},
   "outputs": [
    {
     "data": {
      "text/plain": [
       "<PandasArray>\n",
       "[100, 200, 'python', 300.12, 400]\n",
       "Length: 5, dtype: object"
      ]
     },
     "execution_count": 78,
     "metadata": {},
     "output_type": "execute_result"
    }
   ],
   "source": [
    "sample = [100, 200, 'python', 300.12, 400]\n",
    "samples = pd.Series(sample)\n",
    "\n",
    "samples1 = pd.array(samples)\n",
    "samples1"
   ]
  },
  {
   "attachments": {},
   "cell_type": "markdown",
   "metadata": {},
   "source": [
    "10. Write a Pandas program to convert Series of lists to one Series."
   ]
  },
  {
   "cell_type": "code",
   "execution_count": 79,
   "metadata": {},
   "outputs": [
    {
     "data": {
      "text/plain": [
       "0       Red\n",
       "1     Green\n",
       "2     White\n",
       "3       Red\n",
       "4     Black\n",
       "5    Yellow\n",
       "dtype: object"
      ]
     },
     "execution_count": 79,
     "metadata": {},
     "output_type": "execute_result"
    }
   ],
   "source": [
    "colourlist = pd.Series([['Red', 'Green', 'White'], ['Red', 'Black'],['Yellow']])\n",
    "\n",
    "colourlist = colourlist.apply(pd.Series).stack().reset_index(drop=True)\n",
    "colourlist\n",
    "\n"
   ]
  },
  {
   "attachments": {},
   "cell_type": "markdown",
   "metadata": {},
   "source": [
    "11. Write a Pandas program to sort a given Series."
   ]
  },
  {
   "cell_type": "code",
   "execution_count": 80,
   "metadata": {},
   "outputs": [
    {
     "data": {
      "text/plain": [
       "0       100\n",
       "1       200\n",
       "3    300.12\n",
       "4       400\n",
       "2    python\n",
       "dtype: object"
      ]
     },
     "execution_count": 80,
     "metadata": {},
     "output_type": "execute_result"
    }
   ],
   "source": [
    "sample = ['100','200','python','300.12','400']\n",
    "samples = pd.Series(sample)\n",
    "samples_sorted = pd.Series(samples).sort_values()\n",
    "samples_sorted"
   ]
  },
  {
   "attachments": {},
   "cell_type": "markdown",
   "metadata": {},
   "source": [
    "12. Write a Pandas program to add some data to an existing Series."
   ]
  },
  {
   "cell_type": "code",
   "execution_count": 81,
   "metadata": {},
   "outputs": [
    {
     "name": "stderr",
     "output_type": "stream",
     "text": [
      "C:\\Users\\dstsj\\AppData\\Local\\Temp\\ipykernel_25004\\1559468017.py:5: FutureWarning: The series.append method is deprecated and will be removed from pandas in a future version. Use pandas.concat instead.\n",
      "  samples=samples.append(samples22,ignore_index=True)\n"
     ]
    },
    {
     "data": {
      "text/plain": [
       "0       100\n",
       "1       200\n",
       "2    python\n",
       "3    300.12\n",
       "4       400\n",
       "5         1\n",
       "dtype: object"
      ]
     },
     "execution_count": 81,
     "metadata": {},
     "output_type": "execute_result"
    }
   ],
   "source": [
    "sample = ['100','200','python','300.12','400']\n",
    "samples = pd.Series(sample)\n",
    "sample2=['1']\n",
    "samples22=pd.Series(sample2)\n",
    "samples=samples.append(samples22,ignore_index=True)\n",
    "samples\n",
    "#FASTWAY:\n",
    "# q12 = q12.append(pd.Series([500, 'php']), ignore_index=True)"
   ]
  },
  {
   "attachments": {},
   "cell_type": "markdown",
   "metadata": {},
   "source": [
    "13. Write a Pandas program to create a subset of a given series based on value and condition."
   ]
  },
  {
   "cell_type": "code",
   "execution_count": 82,
   "metadata": {},
   "outputs": [
    {
     "data": {
      "text/plain": [
       "0    0\n",
       "1    1\n",
       "2    2\n",
       "3    3\n",
       "4    4\n",
       "5    5\n",
       "dtype: int64"
      ]
     },
     "execution_count": 82,
     "metadata": {},
     "output_type": "execute_result"
    }
   ],
   "source": [
    "ogseries=pd.Series([0, 1, 2, 3, 4, 5, 6, 7, 8, 9, 10])\n",
    "ogseries[ogseries <=5]"
   ]
  },
  {
   "attachments": {},
   "cell_type": "markdown",
   "metadata": {},
   "source": [
    "14. Write a Pandas program to change the order of index of a given series. "
   ]
  },
  {
   "cell_type": "code",
   "execution_count": 83,
   "metadata": {},
   "outputs": [
    {
     "data": {
      "text/plain": [
       "B    2\n",
       "A    1\n",
       "C    3\n",
       "D    4\n",
       "E    5\n",
       "dtype: int64"
      ]
     },
     "execution_count": 83,
     "metadata": {},
     "output_type": "execute_result"
    }
   ],
   "source": [
    "p=pd.Series(data = [1,2,3,4,5], index = ['A', 'B', 'C','D','E'])\n",
    "p.reindex(index=['B','A','C','D','E']) #if put p= at the beginning, wd save over the og p= and when run p wd run the new order rather than og"
   ]
  },
  {
   "attachments": {},
   "cell_type": "markdown",
   "metadata": {},
   "source": [
    "15. Write a Pandas program to create the mean and standard deviation of the data of a given Series."
   ]
  },
  {
   "cell_type": "code",
   "execution_count": 84,
   "metadata": {},
   "outputs": [
    {
     "data": {
      "text/plain": [
       "(4.818181818181818, 2.522624895547565)"
      ]
     },
     "execution_count": 84,
     "metadata": {},
     "output_type": "execute_result"
    }
   ],
   "source": [
    "i=pd.Series(data = [1,2,3,4,5,6,7,8,9,5,3])\n",
    "i.mean(),i.std()"
   ]
  },
  {
   "attachments": {},
   "cell_type": "markdown",
   "metadata": {},
   "source": [
    "16. Write a Pandas program to get the items of a given series not present in another given series."
   ]
  },
  {
   "cell_type": "code",
   "execution_count": 85,
   "metadata": {},
   "outputs": [
    {
     "data": {
      "text/plain": [
       "0    1\n",
       "2    3\n",
       "4    5\n",
       "dtype: int64"
      ]
     },
     "execution_count": 85,
     "metadata": {},
     "output_type": "execute_result"
    }
   ],
   "source": [
    "l1=pd.Series([1,2,3,4,5])\n",
    "l2=pd.Series([2,4,6,8,10])\n",
    "result=l1[~l1.isin(l2)]\n",
    "result #checking what from first list is not in second list"
   ]
  },
  {
   "attachments": {},
   "cell_type": "markdown",
   "metadata": {},
   "source": [
    "17. Write a Pandas program to get the items which are not common of two given series."
   ]
  },
  {
   "cell_type": "code",
   "execution_count": 86,
   "metadata": {},
   "outputs": [
    {
     "data": {
      "text/plain": [
       "0     1\n",
       "2     3\n",
       "4     5\n",
       "5     6\n",
       "6     8\n",
       "7    10\n",
       "dtype: int64"
      ]
     },
     "execution_count": 86,
     "metadata": {},
     "output_type": "execute_result"
    }
   ],
   "source": [
    "sr1=pd.Series([1,2,3,4,5])\n",
    "sr2=pd.Series([2,4,6,8,10])\n",
    "sr11 = pd.Series(np.union1d(sr1, sr2)) #uncommon\n",
    "sr22 = pd.Series(np.intersect1d(sr1, sr2)) #common\n",
    "result = sr11[~sr11.isin(sr22)]\n",
    "result"
   ]
  },
  {
   "attachments": {},
   "cell_type": "markdown",
   "metadata": {},
   "source": [
    "18. Write a Pandas program to compute the minimum, 25th percentile, median, 75th, and maximum of a given series."
   ]
  },
  {
   "cell_type": "code",
   "execution_count": 87,
   "metadata": {},
   "outputs": [
    {
     "name": "stdout",
     "output_type": "stream",
     "text": [
      "[ 3.00093811  8.09463867 10.23353705 12.21537733 14.61214321]\n"
     ]
    }
   ],
   "source": [
    "nums = np.random.RandomState(100)\n",
    "nums_series = pd.Series(nums.normal(10, 4, 20)) #if hover over normal and scroll to parameters, will c what these numbers r here for\n",
    "result=np.percentile(nums_series,q=[0,25,50,75,100])\n",
    "print(result)"
   ]
  },
  {
   "attachments": {},
   "cell_type": "markdown",
   "metadata": {},
   "source": [
    "19. Write a Pandas program to calculate the frequency counts of each unique value of a given series."
   ]
  },
  {
   "cell_type": "code",
   "execution_count": 88,
   "metadata": {},
   "outputs": [
    {
     "data": {
      "text/plain": [
       "7    6\n",
       "0    6\n",
       "9    6\n",
       "3    5\n",
       "4    4\n",
       "2    3\n",
       "1    3\n",
       "5    3\n",
       "6    2\n",
       "8    2\n",
       "dtype: int64"
      ]
     },
     "execution_count": 88,
     "metadata": {},
     "output_type": "execute_result"
    }
   ],
   "source": [
    "numbers=pd.Series(np.take(list('0123456789'),np.random.randint(10,size=40)))\n",
    "result=numbers.value_counts()\n",
    "result"
   ]
  },
  {
   "attachments": {},
   "cell_type": "markdown",
   "metadata": {},
   "source": [
    "20. Write a Pandas program to display most frequent value in a given series and replace everything else as 'Other' in the series."
   ]
  },
  {
   "cell_type": "code",
   "execution_count": 89,
   "metadata": {},
   "outputs": [
    {
     "name": "stdout",
     "output_type": "stream",
     "text": [
      "Original Series:\n",
      "0     2\n",
      "1     1\n",
      "2     3\n",
      "3     2\n",
      "4     4\n",
      "5     1\n",
      "6     4\n",
      "7     3\n",
      "8     1\n",
      "9     2\n",
      "10    3\n",
      "11    1\n",
      "12    1\n",
      "13    1\n",
      "14    1\n",
      "dtype: int32\n",
      "Top 2 Freq: 1    7\n",
      "2    3\n",
      "3    3\n",
      "4    2\n",
      "dtype: int64\n",
      "0     Other\n",
      "1         1\n",
      "2     Other\n",
      "3     Other\n",
      "4     Other\n",
      "5         1\n",
      "6     Other\n",
      "7     Other\n",
      "8         1\n",
      "9     Other\n",
      "10    Other\n",
      "11        1\n",
      "12        1\n",
      "13        1\n",
      "14        1\n",
      "dtype: object\n"
     ]
    }
   ],
   "source": [
    "np.random.RandomState(100)\n",
    "num_series = pd.Series(np.random.randint(1, 5, [15]))\n",
    "print(\"Original Series:\")\n",
    "print(num_series)\n",
    "print(\"Top 2 Freq:\", num_series.value_counts())\n",
    "result = num_series[~num_series.isin(num_series.value_counts().index[:1])] = 'Other'\n",
    "print(num_series)"
   ]
  },
  {
   "attachments": {},
   "cell_type": "markdown",
   "metadata": {},
   "source": [
    "21. Write a Pandas program to find the positions of numbers that are multiples of 5 of a given series."
   ]
  },
  {
   "cell_type": "code",
   "execution_count": 90,
   "metadata": {},
   "outputs": [
    {
     "data": {
      "text/plain": [
       "(array([3], dtype=int64),)"
      ]
     },
     "execution_count": 90,
     "metadata": {},
     "output_type": "execute_result"
    }
   ],
   "source": [
    "num_series=pd.Series(np.random.randint(1, 10, 9))\n",
    "num_series\n",
    "multioffive=np.where(num_series % 5==0)\n",
    "multioffive"
   ]
  },
  {
   "attachments": {},
   "cell_type": "markdown",
   "metadata": {},
   "source": [
    "22. Write a Pandas program to extract items at given positions of a given series."
   ]
  },
  {
   "cell_type": "code",
   "execution_count": 91,
   "metadata": {},
   "outputs": [
    {
     "data": {
      "text/plain": [
       "0     7\n",
       "2     5\n",
       "6     8\n",
       "11    1\n",
       "21    7\n",
       "dtype: int32"
      ]
     },
     "execution_count": 91,
     "metadata": {},
     "output_type": "execute_result"
    }
   ],
   "source": [
    "num_series=pd.Series(np.random.randint(0, 10, 22))\n",
    "element_pos=[0,2,6,11,21]\n",
    "num_series\n",
    "result=num_series.take(element_pos)\n",
    "result"
   ]
  },
  {
   "attachments": {},
   "cell_type": "markdown",
   "metadata": {},
   "source": [
    "23. Write a Pandas program to get the positions of items of a given series in another given series."
   ]
  },
  {
   "cell_type": "code",
   "execution_count": 92,
   "metadata": {},
   "outputs": [
    {
     "data": {
      "text/plain": [
       "[0, 2, 4, 6, 9]"
      ]
     },
     "execution_count": 92,
     "metadata": {},
     "output_type": "execute_result"
    }
   ],
   "source": [
    "series1=pd.Series([1, 2, 3, 4, 5, 6, 7, 8, 9, 10])\n",
    "series2=pd.Series([1, 3, 5, 7, 10])\n",
    "series1\n",
    "series2\n",
    "result=[pd.Index(series1).get_loc(i) for i in series2]\n",
    "result"
   ]
  },
  {
   "attachments": {},
   "cell_type": "markdown",
   "metadata": {},
   "source": [
    "24. Write a Pandas program convert the first and last character of each word to upper case in each word of a given series."
   ]
  },
  {
   "cell_type": "code",
   "execution_count": 93,
   "metadata": {},
   "outputs": [
    {
     "data": {
      "text/plain": [
       "0       PhP\n",
       "1    PythoN\n",
       "2      JavA\n",
       "3        C#\n",
       "dtype: object"
      ]
     },
     "execution_count": 93,
     "metadata": {},
     "output_type": "execute_result"
    }
   ],
   "source": [
    "series1 = pd.Series(['php', 'python', 'java', 'c#'])\n",
    "series1\n",
    "result=series1.map(lambda x: x[0].upper() + x[1:-1] + x[-1].upper())\n",
    "result"
   ]
  },
  {
   "attachments": {},
   "cell_type": "markdown",
   "metadata": {},
   "source": [
    "25. Write a Pandas program to calculate the number of characters in each word in a given series."
   ]
  },
  {
   "cell_type": "code",
   "execution_count": 94,
   "metadata": {},
   "outputs": [
    {
     "data": {
      "text/plain": [
       "0    3\n",
       "1    6\n",
       "2    4\n",
       "3    2\n",
       "dtype: int64"
      ]
     },
     "execution_count": 94,
     "metadata": {},
     "output_type": "execute_result"
    }
   ],
   "source": [
    "series1=pd.Series(['Php', 'Python', 'Java', 'C#'])\n",
    "series1\n",
    "result=series1.map(lambda x: len(x))\n",
    "result"
   ]
  },
  {
   "attachments": {},
   "cell_type": "markdown",
   "metadata": {},
   "source": [
    "26. Write a Pandas program to compute difference of differences between consecutive numbers of a given series."
   ]
  },
  {
   "cell_type": "code",
   "execution_count": 95,
   "metadata": {},
   "outputs": [
    {
     "name": "stdout",
     "output_type": "stream",
     "text": [
      "Original Series:\n",
      "0     1\n",
      "1     3\n",
      "2     5\n",
      "3     8\n",
      "4    10\n",
      "5    11\n",
      "6    15\n",
      "dtype: int64\n",
      "\n",
      "Difference of differences between consecutive numbers of the said series:\n",
      "[nan, 2.0, 2.0, 3.0, 2.0, 1.0, 4.0]\n",
      "[nan, nan, 0.0, 1.0, -1.0, -1.0, 3.0]\n"
     ]
    }
   ],
   "source": [
    "series1 = pd.Series([1, 3, 5, 8, 10, 11, 15])\n",
    "print(\"Original Series:\")\n",
    "print(series1)\n",
    "print(\"\\nDifference of differences between consecutive numbers of the said series:\")\n",
    "print(series1.diff().tolist())\n",
    "print(series1.diff().diff().tolist())"
   ]
  },
  {
   "attachments": {},
   "cell_type": "markdown",
   "metadata": {},
   "source": [
    "27. Write a Pandas program to convert a series of date strings to a timeseries."
   ]
  },
  {
   "cell_type": "code",
   "execution_count": 96,
   "metadata": {},
   "outputs": [
    {
     "name": "stdout",
     "output_type": "stream",
     "text": [
      "Original Series:\n",
      "0         01 Jan 2015\n",
      "1          10-02-2016\n",
      "2            20180307\n",
      "3          2014/05/06\n",
      "4          2016-04-12\n",
      "5    2019-04-06T11:20\n",
      "dtype: object\n",
      "\n",
      "Series of date strings to a timeseries:\n",
      "0   2015-01-01 00:00:00\n",
      "1   2016-10-02 00:00:00\n",
      "2   2018-03-07 00:00:00\n",
      "3   2014-05-06 00:00:00\n",
      "4   2016-04-12 00:00:00\n",
      "5   2019-04-06 11:20:00\n",
      "dtype: datetime64[ns]\n"
     ]
    }
   ],
   "source": [
    "date_series = pd.Series(['01 Jan 2015', '10-02-2016', '20180307', '2014/05/06', '2016-04-12', '2019-04-06T11:20'])\n",
    "print(\"Original Series:\")\n",
    "print(date_series)\n",
    "print(\"\\nSeries of date strings to a timeseries:\")\n",
    "print(pd.to_datetime(date_series))"
   ]
  },
  {
   "attachments": {},
   "cell_type": "markdown",
   "metadata": {},
   "source": [
    "28. Write a Pandas program to get the day of month, day of year, week number and day of week from a given series of date strings."
   ]
  },
  {
   "cell_type": "code",
   "execution_count": 97,
   "metadata": {},
   "outputs": [
    {
     "name": "stdout",
     "output_type": "stream",
     "text": [
      "Original Series:\n",
      "0         01 Jan 2015\n",
      "1          10-02-2016\n",
      "2            20180307\n",
      "3          2014/05/06\n",
      "4          2016-04-12\n",
      "5    2019-04-06T11:20\n",
      "dtype: object\n",
      "Day of month:\n",
      "[1, 2, 7, 6, 12, 6]\n",
      "Day of year:\n",
      "[1, 276, 66, 126, 103, 96]\n",
      "Week number:\n",
      "[1, 39, 10, 19, 15, 14]\n",
      "Day of week:\n"
     ]
    },
    {
     "name": "stderr",
     "output_type": "stream",
     "text": [
      "C:\\Users\\dstsj\\AppData\\Local\\Temp\\ipykernel_25004\\3615783471.py:11: FutureWarning: Series.dt.weekofyear and Series.dt.week have been deprecated. Please use Series.dt.isocalendar().week instead.\n",
      "  print(date_series.dt.weekofyear.tolist())\n"
     ]
    }
   ],
   "source": [
    "from dateutil.parser import parse\n",
    "date_series = pd.Series(['01 Jan 2015', '10-02-2016', '20180307', '2014/05/06', '2016-04-12', '2019-04-06T11:20'])\n",
    "print(\"Original Series:\")\n",
    "print(date_series)\n",
    "date_series = date_series.map(lambda x: parse(x))\n",
    "print(\"Day of month:\")\n",
    "print(date_series.dt.day.tolist())\n",
    "print(\"Day of year:\")\n",
    "print(date_series.dt.dayofyear.tolist())\n",
    "print(\"Week number:\")\n",
    "print(date_series.dt.weekofyear.tolist())\n",
    "print(\"Day of week:\")\n",
    "# print(date_series.dt.weekday_name.tolist())"
   ]
  },
  {
   "attachments": {},
   "cell_type": "markdown",
   "metadata": {},
   "source": [
    "29. Write a Pandas program to convert year-month string to dates adding a specified day of the month."
   ]
  },
  {
   "cell_type": "code",
   "execution_count": 98,
   "metadata": {},
   "outputs": [
    {
     "name": "stdout",
     "output_type": "stream",
     "text": [
      "Original Series:\n",
      "0    Jan 2015\n",
      "1    Feb 2016\n",
      "2    Mar 2017\n",
      "3    Apr 2018\n",
      "4    May 2019\n",
      "dtype: object\n",
      "\n",
      "New dates:\n",
      "0   2015-01-11\n",
      "1   2016-02-11\n",
      "2   2017-03-11\n",
      "3   2018-04-11\n",
      "4   2019-05-11\n",
      "dtype: datetime64[ns]\n"
     ]
    }
   ],
   "source": [
    "from dateutil.parser import parse\n",
    "date_series = pd.Series(['Jan 2015', 'Feb 2016', 'Mar 2017', 'Apr 2018', 'May 2019'])\n",
    "print(\"Original Series:\")\n",
    "print(date_series)\n",
    "print(\"\\nNew dates:\")\n",
    "result = date_series.map(lambda d: parse('11 ' + d))\n",
    "print(result)"
   ]
  },
  {
   "attachments": {},
   "cell_type": "markdown",
   "metadata": {},
   "source": [
    "30. Write a Pandas program to filter words from a given series that contain atleast two vowels."
   ]
  },
  {
   "cell_type": "code",
   "execution_count": 99,
   "metadata": {},
   "outputs": [
    {
     "name": "stdout",
     "output_type": "stream",
     "text": [
      "Original Series:\n",
      "0       Red\n",
      "1     Green\n",
      "2    Orange\n",
      "3      Pink\n",
      "4    Yellow\n",
      "5     White\n",
      "dtype: object\n",
      "\n",
      "Filtered words:\n",
      "1     Green\n",
      "2    Orange\n",
      "4    Yellow\n",
      "5     White\n",
      "dtype: object\n"
     ]
    }
   ],
   "source": [
    "from collections import Counter\n",
    "color_series = pd.Series(['Red', 'Green', 'Orange', 'Pink', 'Yellow', 'White'])\n",
    "print(\"Original Series:\")\n",
    "print(color_series)\n",
    "print(\"\\nFiltered words:\")\n",
    "result = mask = color_series.map(lambda c: sum([Counter(c.lower()).get(i, 0) for i in list('aeiou')]) >= 2)\n",
    "print(color_series[result])"
   ]
  },
  {
   "attachments": {},
   "cell_type": "markdown",
   "metadata": {},
   "source": [
    "31. Write a Pandas program to compute the Euclidean distance between two given series."
   ]
  },
  {
   "cell_type": "code",
   "execution_count": 100,
   "metadata": {},
   "outputs": [
    {
     "name": "stdout",
     "output_type": "stream",
     "text": [
      "Original series:\n",
      "0     1\n",
      "1     2\n",
      "2     3\n",
      "3     4\n",
      "4     5\n",
      "5     6\n",
      "6     7\n",
      "7     8\n",
      "8     9\n",
      "9    10\n",
      "dtype: int64\n",
      "0    11\n",
      "1     8\n",
      "2     7\n",
      "3     5\n",
      "4     6\n",
      "5     5\n",
      "6     3\n",
      "7     4\n",
      "8     7\n",
      "9     1\n",
      "dtype: int64\n",
      "\n",
      "Euclidean distance between two said series:\n",
      "16.492422502470642\n"
     ]
    }
   ],
   "source": [
    "x = pd.Series([1, 2, 3, 4, 5, 6, 7, 8, 9, 10])\n",
    "y = pd.Series([11, 8, 7, 5, 6, 5, 3, 4, 7, 1])\n",
    "print(\"Original series:\")\n",
    "print(x)\n",
    "print(y)\n",
    "print(\"\\nEuclidean distance between two said series:\")\n",
    "print(np.linalg.norm(x-y))"
   ]
  },
  {
   "attachments": {},
   "cell_type": "markdown",
   "metadata": {},
   "source": [
    "32. Write a Pandas program to find the positions of the values neighboured by smaller values on both sides in a given series."
   ]
  },
  {
   "cell_type": "code",
   "execution_count": 101,
   "metadata": {},
   "outputs": [
    {
     "name": "stdout",
     "output_type": "stream",
     "text": [
      "Original series:\n",
      "0    1\n",
      "1    8\n",
      "2    7\n",
      "3    5\n",
      "4    6\n",
      "5    5\n",
      "6    3\n",
      "7    4\n",
      "8    7\n",
      "9    1\n",
      "dtype: int64\n",
      "\n",
      "Positions of the values surrounded by smaller values on both sides:\n",
      "[1 4 8]\n"
     ]
    }
   ],
   "source": [
    "nums = pd.Series([1, 8, 7, 5, 6, 5, 3, 4, 7, 1])\n",
    "print(\"Original series:\")\n",
    "print(nums)\n",
    "print(\"\\nPositions of the values surrounded by smaller values on both sides:\")\n",
    "temp = np.diff(np.sign(np.diff(nums)))\n",
    "result = np.where(temp == -2)[0] + 1\n",
    "print(result)"
   ]
  },
  {
   "attachments": {},
   "cell_type": "markdown",
   "metadata": {},
   "source": [
    "33. Write a Pandas program to replace missing white spaces in a given string with the least frequent character."
   ]
  },
  {
   "cell_type": "code",
   "execution_count": 102,
   "metadata": {},
   "outputs": [
    {
     "name": "stdout",
     "output_type": "stream",
     "text": [
      "Original series:\n",
      "abc def abcdef icd\n",
      "c    3\n",
      "     3\n",
      "d    3\n",
      "a    2\n",
      "b    2\n",
      "e    2\n",
      "f    2\n",
      "i    1\n",
      "dtype: int64\n",
      "abcidefiabcdefiicd\n"
     ]
    }
   ],
   "source": [
    "str1 = 'abc def abcdef icd'\n",
    "print(\"Original series:\")\n",
    "print(str1)\n",
    "ser = pd.Series(list(str1))\n",
    "element_freq = ser.value_counts()\n",
    "print(element_freq)\n",
    "current_freq = element_freq.dropna().index[-1]\n",
    "result = \"\".join(ser.replace(' ', current_freq))\n",
    "print(result)"
   ]
  },
  {
   "attachments": {},
   "cell_type": "markdown",
   "metadata": {},
   "source": [
    "34. Write a Pandas program to compute the autocorrelations of a given numeric series. "
   ]
  },
  {
   "cell_type": "code",
   "execution_count": 103,
   "metadata": {},
   "outputs": [
    {
     "name": "stdout",
     "output_type": "stream",
     "text": [
      "Original series:\n",
      "0      7.293965\n",
      "1     10.999437\n",
      "2      7.052337\n",
      "3     -0.775593\n",
      "4     14.806185\n",
      "5     27.133429\n",
      "6      8.992129\n",
      "7     -4.170100\n",
      "8      1.298973\n",
      "9     17.227038\n",
      "10    14.331882\n",
      "11    20.652237\n",
      "12    19.108278\n",
      "13     6.794637\n",
      "14    11.013474\n",
      "dtype: float64\n",
      "\n",
      "Autocorrelations of the said series:\n",
      "[0.25, -0.51, -0.35, 0.0, 0.15, 0.29, 0.28, -0.34, -0.71, 0.44]\n"
     ]
    }
   ],
   "source": [
    "num_series = pd.Series(np.arange(15) + np.random.normal(1, 10, 15))\n",
    "print(\"Original series:\")\n",
    "print(num_series)\n",
    "autocorrelations = [num_series.autocorr(i).round(2) for i in range(11)]\n",
    "print(\"\\nAutocorrelations of the said series:\")\n",
    "print(autocorrelations[1:])"
   ]
  },
  {
   "attachments": {},
   "cell_type": "markdown",
   "metadata": {},
   "source": [
    "35. Write a Pandas program to create a TimeSeries to display all the Sundays of given year."
   ]
  },
  {
   "cell_type": "code",
   "execution_count": 104,
   "metadata": {},
   "outputs": [
    {
     "name": "stdout",
     "output_type": "stream",
     "text": [
      "All Sundays of 2019:\n",
      "0    2020-01-05\n",
      "1    2020-01-12\n",
      "2    2020-01-19\n",
      "3    2020-01-26\n",
      "4    2020-02-02\n",
      "5    2020-02-09\n",
      "6    2020-02-16\n",
      "7    2020-02-23\n",
      "8    2020-03-01\n",
      "9    2020-03-08\n",
      "10   2020-03-15\n",
      "11   2020-03-22\n",
      "12   2020-03-29\n",
      "13   2020-04-05\n",
      "14   2020-04-12\n",
      "15   2020-04-19\n",
      "16   2020-04-26\n",
      "17   2020-05-03\n",
      "18   2020-05-10\n",
      "19   2020-05-17\n",
      "20   2020-05-24\n",
      "21   2020-05-31\n",
      "22   2020-06-07\n",
      "23   2020-06-14\n",
      "24   2020-06-21\n",
      "25   2020-06-28\n",
      "26   2020-07-05\n",
      "27   2020-07-12\n",
      "28   2020-07-19\n",
      "29   2020-07-26\n",
      "30   2020-08-02\n",
      "31   2020-08-09\n",
      "32   2020-08-16\n",
      "33   2020-08-23\n",
      "34   2020-08-30\n",
      "35   2020-09-06\n",
      "36   2020-09-13\n",
      "37   2020-09-20\n",
      "38   2020-09-27\n",
      "39   2020-10-04\n",
      "40   2020-10-11\n",
      "41   2020-10-18\n",
      "42   2020-10-25\n",
      "43   2020-11-01\n",
      "44   2020-11-08\n",
      "45   2020-11-15\n",
      "46   2020-11-22\n",
      "47   2020-11-29\n",
      "48   2020-12-06\n",
      "49   2020-12-13\n",
      "50   2020-12-20\n",
      "51   2020-12-27\n",
      "dtype: datetime64[ns]\n"
     ]
    }
   ],
   "source": [
    "result = pd.Series(pd.date_range('2020-01-01', periods=52, freq='W-SUN'))\n",
    "print(\"All Sundays of 2019:\")\n",
    "print(result)"
   ]
  },
  {
   "attachments": {},
   "cell_type": "markdown",
   "metadata": {},
   "source": [
    "36. Write a Pandas program to convert given series into a dataframe with its index as another column on the dataframe."
   ]
  },
  {
   "cell_type": "code",
   "execution_count": 105,
   "metadata": {},
   "outputs": [
    {
     "name": "stdout",
     "output_type": "stream",
     "text": [
      "  index  0\n",
      "0     A  0\n",
      "1     B  1\n",
      "2     C  2\n",
      "3     D  3\n",
      "4     E  4\n"
     ]
    }
   ],
   "source": [
    "char_list = list('ABCDEFGHIJKLMNOP')\n",
    "num_arra = np.arange(8)\n",
    "num_dict = dict(zip(char_list, num_arra))\n",
    "num_ser = pd.Series(num_dict)\n",
    "df = num_ser.to_frame().reset_index()\n",
    "print(df.head())"
   ]
  },
  {
   "attachments": {},
   "cell_type": "markdown",
   "metadata": {},
   "source": [
    "37. Write a Pandas program to stack two given series vertically and horizontally."
   ]
  },
  {
   "cell_type": "code",
   "execution_count": 106,
   "metadata": {},
   "outputs": [
    {
     "name": "stdout",
     "output_type": "stream",
     "text": [
      "Original Series:\n",
      "0    0\n",
      "1    1\n",
      "2    2\n",
      "3    3\n",
      "4    4\n",
      "5    5\n",
      "6    6\n",
      "7    7\n",
      "8    8\n",
      "9    9\n",
      "dtype: int64\n",
      "0    p\n",
      "1    q\n",
      "2    r\n",
      "3    s\n",
      "4    t\n",
      "5    u\n",
      "6    v\n",
      "7    w\n",
      "8    x\n",
      "9    y\n",
      "dtype: object\n",
      "\n",
      "Stack two given series vertically and horizontally:\n",
      "   0  1\n",
      "0  0  p\n",
      "1  1  q\n",
      "2  2  r\n",
      "3  3  s\n",
      "4  4  t\n",
      "5  5  u\n",
      "6  6  v\n",
      "7  7  w\n",
      "8  8  x\n",
      "9  9  y\n"
     ]
    },
    {
     "name": "stderr",
     "output_type": "stream",
     "text": [
      "C:\\Users\\dstsj\\AppData\\Local\\Temp\\ipykernel_25004\\2169798921.py:6: FutureWarning: The series.append method is deprecated and will be removed from pandas in a future version. Use pandas.concat instead.\n",
      "  series1.append(series2)\n"
     ]
    }
   ],
   "source": [
    "series1 = pd.Series(range(10))\n",
    "series2 = pd.Series(list('pqrstuvwxy'))\n",
    "print(\"Original Series:\")\n",
    "print(series1)\n",
    "print(series2)\n",
    "series1.append(series2)\n",
    "df = pd.concat([series1, series2], axis=1)\n",
    "print(\"\\nStack two given series vertically and horizontally:\")\n",
    "print(df)"
   ]
  },
  {
   "attachments": {},
   "cell_type": "markdown",
   "metadata": {},
   "source": [
    "38. Write a Pandas program to check the equality of two given series."
   ]
  },
  {
   "cell_type": "code",
   "execution_count": 107,
   "metadata": {},
   "outputs": [
    {
     "name": "stdout",
     "output_type": "stream",
     "text": [
      "Original Series:\n",
      "0    1\n",
      "1    8\n",
      "2    7\n",
      "3    5\n",
      "4    6\n",
      "5    5\n",
      "6    3\n",
      "7    4\n",
      "8    7\n",
      "9    1\n",
      "dtype: int64\n",
      "0    1\n",
      "1    8\n",
      "2    7\n",
      "3    5\n",
      "4    6\n",
      "5    5\n",
      "6    3\n",
      "7    4\n",
      "8    7\n",
      "9    1\n",
      "dtype: int64\n",
      "Check 2 series are equal or not?\n",
      "0    True\n",
      "1    True\n",
      "2    True\n",
      "3    True\n",
      "4    True\n",
      "5    True\n",
      "6    True\n",
      "7    True\n",
      "8    True\n",
      "9    True\n",
      "dtype: bool\n"
     ]
    }
   ],
   "source": [
    "nums1 = pd.Series([1, 8, 7, 5, 6, 5, 3, 4, 7, 1])\n",
    "nums2 = pd.Series([1, 8, 7, 5, 6, 5, 3, 4, 7, 1])\n",
    "print(\"Original Series:\")\n",
    "print(nums1)\n",
    "print(nums2)\n",
    "print(\"Check 2 series are equal or not?\")\n",
    "print(nums1 == nums2)"
   ]
  },
  {
   "attachments": {},
   "cell_type": "markdown",
   "metadata": {},
   "source": [
    "39. Write a Pandas program to find the index of the first occurrence of the smallest and largest value of a given series."
   ]
  },
  {
   "cell_type": "code",
   "execution_count": 108,
   "metadata": {},
   "outputs": [
    {
     "name": "stdout",
     "output_type": "stream",
     "text": [
      "Original Series:\n",
      "0     1\n",
      "1     3\n",
      "2     7\n",
      "3    12\n",
      "4    88\n",
      "5    23\n",
      "6     3\n",
      "7     1\n",
      "8     9\n",
      "9     0\n",
      "dtype: int64\n",
      "Index of the first occurrence of the smallest and largest value of the said series:\n",
      "9\n",
      "4\n"
     ]
    }
   ],
   "source": [
    "nums = pd.Series([1, 3, 7, 12, 88, 23, 3, 1, 9, 0])\n",
    "print(\"Original Series:\")\n",
    "print(nums)\n",
    "print(\"Index of the first occurrence of the smallest and largest value of the said series:\")\n",
    "print(nums.idxmin())\n",
    "print(nums.idxmax())"
   ]
  },
  {
   "attachments": {},
   "cell_type": "markdown",
   "metadata": {},
   "source": [
    "40. Write a Pandas program to check inequality over the index axis of a given dataframe and a given series."
   ]
  },
  {
   "cell_type": "code",
   "execution_count": 109,
   "metadata": {},
   "outputs": [
    {
     "name": "stdout",
     "output_type": "stream",
     "text": [
      "Original DataFrame:\n",
      "      W     X   Y   Z\n",
      "0  68.0  78.0  84  86\n",
      "1  75.0  75.0  94  97\n",
      "2  86.0   NaN  89  96\n",
      "3  80.0  80.0  86  72\n",
      "4   NaN  86.0  86  83\n",
      "\n",
      "Original Series:\n",
      "0    68.0\n",
      "1    75.0\n",
      "2    86.0\n",
      "3    80.0\n",
      "4     NaN\n",
      "dtype: float64\n",
      "\n",
      "Check for inequality of the said series & dataframe:\n",
      "       W      X     Y     Z\n",
      "0  False   True  True  True\n",
      "1  False  False  True  True\n",
      "2  False   True  True  True\n",
      "3  False  False  True  True\n",
      "4   True   True  True  True\n"
     ]
    }
   ],
   "source": [
    "df_data = pd.DataFrame({'W':[68,75,86,80,None],'X':[78,75,None,80,86], 'Y':[84,94,89,86,86],'Z':[86,97,96,72,83]});\n",
    "sr_data = pd.Series([68, 75, 86, 80, None]) \n",
    "print(\"Original DataFrame:\")\n",
    "print(df_data)\n",
    "print(\"\\nOriginal Series:\")\n",
    "print(sr_data)\n",
    "print(\"\\nCheck for inequality of the said series & dataframe:\")\n",
    "print(df_data.ne(sr_data, axis = 0))"
   ]
  }
 ],
 "metadata": {
  "kernelspec": {
   "display_name": "venv",
   "language": "python",
   "name": "python3"
  },
  "language_info": {
   "codemirror_mode": {
    "name": "ipython",
    "version": 3
   },
   "file_extension": ".py",
   "mimetype": "text/x-python",
   "name": "python",
   "nbconvert_exporter": "python",
   "pygments_lexer": "ipython3",
   "version": "3.11.1"
  },
  "orig_nbformat": 4,
  "vscode": {
   "interpreter": {
    "hash": "7eba989fe80e3c450a4eebfcbe71360f9f333df7a446d24077f9209694cab29c"
   }
  }
 },
 "nbformat": 4,
 "nbformat_minor": 2
}
