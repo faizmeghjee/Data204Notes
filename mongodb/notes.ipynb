{
 "cells": [
  {
   "attachments": {},
   "cell_type": "markdown",
   "metadata": {},
   "source": [
    "Establish Connection"
   ]
  },
  {
   "cell_type": "code",
   "execution_count": 2,
   "metadata": {},
   "outputs": [
    {
     "name": "stdout",
     "output_type": "stream",
     "text": [
      "Connection Successful\n"
     ]
    }
   ],
   "source": [
    "import pymongo\n",
    "try: \n",
    "    client = pymongo.MongoClient('localhost', 27017) # establish connection\n",
    "    print('Connection Successful')\n",
    "except:\n",
    "    print('Uh oh, me no connect')\n",
    "\n",
    "db = client['starwars'] # choosing or defining a database\n",
    "col = db['people'] # choosing or defining a collection"
   ]
  },
  {
   "attachments": {},
   "cell_type": "markdown",
   "metadata": {},
   "source": [
    "### Insert Data"
   ]
  },
  {
   "attachments": {},
   "cell_type": "markdown",
   "metadata": {},
   "source": [
    "'database'.'collection'.insert_one('data')"
   ]
  },
  {
   "attachments": {},
   "cell_type": "markdown",
   "metadata": {},
   "source": [
    "Import all the data using python"
   ]
  },
  {
   "cell_type": "code",
   "execution_count": 55,
   "metadata": {},
   "outputs": [],
   "source": [
    "import os\n",
    "import json\n",
    "os.chdir(\"D:/faizm/Documents/SpartaGlobal/Data204Notes/mongodb\")\n",
    "for file in os.listdir('Star_Wars_Files'):\n",
    "    with open(f'Star_Wars_Files\\{file}') as f:\n",
    "        file_data = json.load(f)\n",
    "    \n",
    "    if isinstance(file_data, list):\n",
    "        col.insert_many(file_data)\n",
    "    else:\n",
    "        col.insert_one(file_data)"
   ]
  },
  {
   "attachments": {},
   "cell_type": "markdown",
   "metadata": {},
   "source": [
    "Import all the data using Git Bash"
   ]
  },
  {
   "attachments": {},
   "cell_type": "markdown",
   "metadata": {},
   "source": [
    "'cd into the folder where the json files are in'\n",
    "'for i in *.json'\\\n",
    "'> do'\\\n",
    "'> mongoimport --db starwars --collection people --jsonArray -- file $i'"
   ]
  },
  {
   "attachments": {},
   "cell_type": "markdown",
   "metadata": {},
   "source": [
    "### Find"
   ]
  },
  {
   "attachments": {},
   "cell_type": "markdown",
   "metadata": {},
   "source": [
    "Prints the names of each person in the collection 'people'.\\\n",
    "To print the information you can for loop through the object\\\n",
    " OR you can cast it to a list. "
   ]
  },
  {
   "cell_type": "code",
   "execution_count": null,
   "metadata": {},
   "outputs": [],
   "source": [
    "people = db.people.find({})\n",
    "\n",
    "people_names = db.people.find({}, {'name':1, '_id':0})\n",
    "\n",
    "luke = db.people.find_one({'name': 'Luke Skywalker'})\n",
    "\n",
    "droids = db.people.find({'species.name': 'Droid'}, {'name': 1, 'species.name': 1, '_id': 0})\n",
    "\n",
    "# for person in people:\n",
    "#     print(person['name'])\n",
    "\n",
    "for document in droids: # Loop through the documents in our query/object\n",
    "    print(document)\n",
    "\n",
    "print(luke) # Prints the single document matching our filter assigned to it"
   ]
  },
  {
   "attachments": {},
   "cell_type": "markdown",
   "metadata": {},
   "source": [
    "Exercise:\n",
    "1. Find the height of Darth Vader, only return results for the name and the height.\n",
    "2. Find all characters with yellow eyes, only return results for the names of the characters.\n",
    "3. Find male characters. Limit your results to only show the first 3.\n",
    "4. Find the names of all the humans whose homeworld is Alderaan."
   ]
  },
  {
   "attachments": {},
   "cell_type": "markdown",
   "metadata": {},
   "source": [
    "Find the height of Darth Vader, only return results for the name and the height."
   ]
  },
  {
   "cell_type": "code",
   "execution_count": 78,
   "metadata": {},
   "outputs": [
    {
     "name": "stdout",
     "output_type": "stream",
     "text": [
      "{'name': 'Darth Vader', 'height': '202'}\n",
      "{'name': 'Darth Vader', 'height': '202'}\n"
     ]
    }
   ],
   "source": [
    "darthvader = db.people.find( {'name': 'Darth Vader'}, {'name': 1, 'height': 1, '_id': 0})\n",
    "\n",
    "darthvader1 = db.people.find_one( {'name': 'Darth Vader'}, {'name': 1, 'height': 1, '_id': 0})\n",
    "\n",
    "for document in darthvader:\n",
    "    print(document)\n",
    "\n",
    "print(darthvader1)"
   ]
  },
  {
   "attachments": {},
   "cell_type": "markdown",
   "metadata": {},
   "source": [
    "Find all characters with yellow eyes, only return results for the names of the characters."
   ]
  },
  {
   "cell_type": "code",
   "execution_count": 72,
   "metadata": {},
   "outputs": [
    {
     "name": "stdout",
     "output_type": "stream",
     "text": [
      "{'name': 'C-3PO'}\n",
      "{'name': 'Darth Maul'}\n",
      "{'name': 'Darth Vader'}\n",
      "{'name': 'Dexter Jettster'}\n",
      "{'name': 'Dud Bolt'}\n",
      "{'name': 'Ki-Adi-Mundi'}\n",
      "{'name': 'Palpatine'}\n",
      "{'name': 'Poggle the Lesser'}\n",
      "{'name': 'Watto'}\n",
      "{'name': 'Yarael Poof'}\n",
      "{'name': 'Zam Wesell'}\n"
     ]
    }
   ],
   "source": [
    "yellow_eye = db.people.find( {'eye_color': 'yellow'}, {'name': 1, '_id': 0})\n",
    "\n",
    "for document in yellow_eye:\n",
    "    print(document)"
   ]
  },
  {
   "attachments": {},
   "cell_type": "markdown",
   "metadata": {},
   "source": [
    "Find male characters. Limit your results to only show the first 3."
   ]
  },
  {
   "cell_type": "code",
   "execution_count": 74,
   "metadata": {},
   "outputs": [
    {
     "name": "stdout",
     "output_type": "stream",
     "text": [
      "{'name': 'Ackbar'}\n",
      "{'name': 'Anakin Skywalker'}\n",
      "{'name': 'Arvel Crynyd'}\n"
     ]
    }
   ],
   "source": [
    "males = db.people.find( {'gender': 'male'}, {'name': 1, '_id': 0}).limit(3)\n",
    "\n",
    "for document in males:\n",
    "    print(document)"
   ]
  },
  {
   "attachments": {},
   "cell_type": "markdown",
   "metadata": {},
   "source": [
    "Find the names of all the humans whose homeworld is Alderaan."
   ]
  },
  {
   "cell_type": "code",
   "execution_count": 86,
   "metadata": {},
   "outputs": [
    {
     "name": "stdout",
     "output_type": "stream",
     "text": [
      "{'name': 'Bail Prestor Organa'}\n",
      "{'name': 'Leia Organa'}\n",
      "{'name': 'Raymus Antilles'}\n",
      "{'name': 'Bail Prestor Organa'}\n",
      "{'name': 'Leia Organa'}\n",
      "{'name': 'Raymus Antilles'}\n"
     ]
    }
   ],
   "source": [
    "alderaan = db.people.find( {'homeworld.name': 'Alderaan', 'species.name': 'Human'}, {'name': 1, '_id': 0} )\n",
    "\n",
    "alderaan1 = db.people.find( {'$and': [ {'homeworld.name': 'Alderaan'}, { 'species.name': 'Human'} ] }, {'name': 1, '_id': 0} )\n",
    "\n",
    "for document in alderaan:\n",
    "    print(document)\n",
    "\n",
    "for document in alderaan1:\n",
    "    print(document)"
   ]
  },
  {
   "cell_type": "code",
   "execution_count": 102,
   "metadata": {},
   "outputs": [
    {
     "name": "stdout",
     "output_type": "stream",
     "text": [
      "{'height': 180, 'mass': 83.0}\n",
      "{'height': 184, 'mass': 50.0}\n",
      "{'height': 188, 'mass': 84.0}\n",
      "{'height': None, 'mass': None}\n",
      "{'height': 178, 'mass': 55.0}\n",
      "{'height': 191, 'mass': None}\n",
      "{'height': 166, 'mass': 50.0}\n",
      "{'height': None, 'mass': None}\n",
      "{'height': 163, 'mass': 65.0}\n",
      "{'height': 165, 'mass': 75.0}\n",
      "{'height': 180, 'mass': None}\n",
      "{'height': 183, 'mass': 84.0}\n",
      "{'height': 183, 'mass': 78.2}\n",
      "{'height': 190, 'mass': 113.0}\n",
      "{'height': 167, 'mass': 75.0}\n",
      "{'height': None, 'mass': None}\n",
      "{'height': 228, 'mass': 112.0}\n",
      "{'height': 183, 'mass': None}\n",
      "{'height': 157, 'mass': None}\n",
      "{'height': 175, 'mass': 80.0}\n",
      "{'height': 202, 'mass': 136.0}\n",
      "{'height': 198, 'mass': 102.0}\n",
      "{'height': 193, 'mass': 80.0}\n",
      "{'height': 165, 'mass': None}\n",
      "{'height': 94, 'mass': 45.0}\n",
      "{'height': 171, 'mass': None}\n",
      "{'height': 170, 'mass': None}\n",
      "{'height': None, 'mass': None}\n",
      "{'height': 122, 'mass': None}\n",
      "{'height': 173, 'mass': 74.0}\n",
      "{'height': 185, 'mass': 85.0}\n",
      "{'height': 216, 'mass': 159.0}\n",
      "{'height': 180, 'mass': 80.0}\n",
      "{'height': 200, 'mass': 140.0}\n",
      "{'height': 175, 'mass': 1358.0}\n",
      "{'height': 183, 'mass': 79.0}\n",
      "{'height': 196, 'mass': 66.0}\n",
      "{'height': 180, 'mass': 110.0}\n",
      "{'height': 167, 'mass': None}\n",
      "{'height': 198, 'mass': 82.0}\n",
      "{'height': 196, 'mass': 87.0}\n",
      "{'height': 229, 'mass': 88.0}\n",
      "{'height': 177, 'mass': 79.0}\n",
      "{'height': 150, 'mass': 49.0}\n",
      "{'height': 175, 'mass': 79.0}\n",
      "{'height': 172, 'mass': 77.0}\n",
      "{'height': 170, 'mass': 56.2}\n",
      "{'height': 188, 'mass': 84.0}\n",
      "{'height': 196, 'mass': None}\n",
      "{'height': 150, 'mass': None}\n",
      "{'height': 160, 'mass': 68.0}\n",
      "{'height': 191, 'mass': 90.0}\n",
      "{'height': 182, 'mass': 77.0}\n",
      "{'height': 178, 'mass': 120.0}\n",
      "{'height': 165, 'mass': 45.0}\n",
      "{'height': 170, 'mass': 75.0}\n",
      "{'height': 188, 'mass': 80.0}\n",
      "{'height': None, 'mass': None}\n",
      "{'height': 183, 'mass': 80.0}\n",
      "{'height': 183, 'mass': None}\n",
      "{'height': 193, 'mass': 89.0}\n",
      "{'height': 96, 'mass': 32.0}\n",
      "{'height': 96, 'mass': None}\n",
      "{'height': 97, 'mass': 32.0}\n",
      "{'height': 79, 'mass': 15.0}\n",
      "{'height': 188, 'mass': 79.0}\n",
      "{'height': None, 'mass': None}\n",
      "{'height': 183, 'mass': None}\n",
      "{'height': 224, 'mass': 82.0}\n",
      "{'height': 206, 'mass': None}\n",
      "{'height': 188, 'mass': None}\n",
      "{'height': 191, 'mass': None}\n",
      "{'height': 112, 'mass': 40.0}\n",
      "{'height': 178, 'mass': 57.0}\n",
      "{'height': 163, 'mass': None}\n",
      "{'height': 178, 'mass': 48.0}\n",
      "{'height': 234, 'mass': 136.0}\n",
      "{'height': 213, 'mass': None}\n",
      "{'height': 206, 'mass': 80.0}\n",
      "{'height': 137, 'mass': None}\n",
      "{'height': 193, 'mass': 48.0}\n",
      "{'height': 170, 'mass': 77.0}\n",
      "{'height': 88, 'mass': 20.0}\n",
      "{'height': 180, 'mass': None}\n",
      "{'height': 264, 'mass': None}\n",
      "{'height': 66, 'mass': 17.0}\n",
      "{'height': 168, 'mass': 55.0}\n"
     ]
    }
   ],
   "source": [
    "h_and_m = db.people.find({}, {'height': 1, 'mass': 1, '_id': 0})\n",
    "\n",
    "for document in h_and_m:\n",
    "    print(document)"
   ]
  },
  {
   "attachments": {},
   "cell_type": "markdown",
   "metadata": {},
   "source": [
    "Average height for femail characters\\\n",
    "Get female heights\\\n",
    "Group everything together\\\n",
    "$avg to find average"
   ]
  },
  {
   "attachments": {},
   "cell_type": "markdown",
   "metadata": {},
   "source": [
    "Change all unknown values for mass to an empty string"
   ]
  },
  {
   "cell_type": "code",
   "execution_count": 93,
   "metadata": {},
   "outputs": [
    {
     "data": {
      "text/plain": [
       "<pymongo.results.UpdateResult at 0x1f915bce410>"
      ]
     },
     "execution_count": 93,
     "metadata": {},
     "output_type": "execute_result"
    }
   ],
   "source": [
    "db.people.update_many( {'mass': 'unknown'}, {'$unset': {'mass': ''} } )"
   ]
  },
  {
   "attachments": {},
   "cell_type": "markdown",
   "metadata": {},
   "source": [
    "Changing the height field values to be integars"
   ]
  },
  {
   "cell_type": "code",
   "execution_count": 98,
   "metadata": {},
   "outputs": [
    {
     "data": {
      "text/plain": [
       "<pymongo.results.UpdateResult at 0x1f915bce5f0>"
      ]
     },
     "execution_count": 98,
     "metadata": {},
     "output_type": "execute_result"
    }
   ],
   "source": [
    "db.people.update_many({}, [ {\n",
    "    '$set': {\n",
    "        'height': {\n",
    "            '$toInt': '$height'\n",
    "        }\n",
    "    }\n",
    "} ] )"
   ]
  },
  {
   "attachments": {},
   "cell_type": "markdown",
   "metadata": {},
   "source": [
    "Changing the mass field values to doubles"
   ]
  },
  {
   "cell_type": "code",
   "execution_count": 101,
   "metadata": {},
   "outputs": [
    {
     "data": {
      "text/plain": [
       "<pymongo.results.UpdateResult at 0x1f916e1d960>"
      ]
     },
     "execution_count": 101,
     "metadata": {},
     "output_type": "execute_result"
    }
   ],
   "source": [
    "db.people.update_many({}, [ {\n",
    "    '$set': {\n",
    "        'mass': {\n",
    "            '$toDouble': '$mass'\n",
    "        }\n",
    "    }\n",
    "} ] )"
   ]
  },
  {
   "attachments": {},
   "cell_type": "markdown",
   "metadata": {},
   "source": [
    "Edit a individual bit of data"
   ]
  },
  {
   "cell_type": "code",
   "execution_count": 99,
   "metadata": {},
   "outputs": [
    {
     "data": {
      "text/plain": [
       "<pymongo.results.UpdateResult at 0x1f915bccd90>"
      ]
     },
     "execution_count": 99,
     "metadata": {},
     "output_type": "execute_result"
    }
   ],
   "source": [
    "db.people.update_one( {'mass': '1,358'}, {'$set': {'mass': '1358'} } )"
   ]
  },
  {
   "attachments": {},
   "cell_type": "markdown",
   "metadata": {},
   "source": [
    "Count number of documents with mass equal to none"
   ]
  },
  {
   "cell_type": "code",
   "execution_count": 107,
   "metadata": {},
   "outputs": [
    {
     "name": "stdout",
     "output_type": "stream",
     "text": [
      "28\n"
     ]
    }
   ],
   "source": [
    "count_mass = db.people.count_documents({'mass': None})\n",
    "print(count_mass)"
   ]
  },
  {
   "cell_type": "code",
   "execution_count": 108,
   "metadata": {},
   "outputs": [
    {
     "name": "stdout",
     "output_type": "stream",
     "text": [
      "{'_id': 'female', 'averageHeight': 165.47058823529412, 'averageMass': 54.02}\n"
     ]
    }
   ],
   "source": [
    "avg_f_height = db.people.aggregate( [ \n",
    "    {'$match': {'gender': 'female'}}, \n",
    "    {'$group': \n",
    "        {'_id': '$gender', \n",
    "        'averageHeight': {'$avg': '$height'}, \n",
    "        'averageMass': {'$avg': '$mass'} \n",
    "        } }\n",
    "    ] )\n",
    "\n",
    "for document in avg_f_height:\n",
    "    print(document)"
   ]
  }
 ],
 "metadata": {
  "kernelspec": {
   "display_name": "venv",
   "language": "python",
   "name": "python3"
  },
  "language_info": {
   "codemirror_mode": {
    "name": "ipython",
    "version": 3
   },
   "file_extension": ".py",
   "mimetype": "text/x-python",
   "name": "python",
   "nbconvert_exporter": "python",
   "pygments_lexer": "ipython3",
   "version": "3.11.1"
  },
  "orig_nbformat": 4,
  "vscode": {
   "interpreter": {
    "hash": "9ef35089b387a514fce1d1aa2288e5164b31d47d8e47cc4e32d64c1d2357104c"
   }
  }
 },
 "nbformat": 4,
 "nbformat_minor": 2
}
