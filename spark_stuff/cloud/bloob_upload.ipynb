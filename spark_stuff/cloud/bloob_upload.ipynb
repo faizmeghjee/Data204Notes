{
 "cells": [
  {
   "cell_type": "code",
   "execution_count": 1,
   "metadata": {},
   "outputs": [],
   "source": [
    "from azure.storage.blob import BlobServiceClient, BlobClient"
   ]
  },
  {
   "cell_type": "code",
   "execution_count": null,
   "metadata": {},
   "outputs": [],
   "source": [
    "connection_string = \"<your-storage-account-connection-string>\" \n",
    "container_name = \"<your-container-name>\" \n",
    "file_path = \"<path-to-your-file>\" \n",
    "blob_service_client = BlobServiceClient.from_connection_string(connection_string) \n",
    "blob_client = blob_service_client.get_blob_client(container_name, file_path) "
   ]
  },
  {
   "cell_type": "code",
   "execution_count": null,
   "metadata": {},
   "outputs": [],
   "source": [
    "# Download the file to a local temporary directory\n",
    "local_file = 'temp_file.csv'\n",
    "with open(local_file, \"wb\") as data:\n",
    "    data.write(blob_client.download_blob().readall())"
   ]
  },
  {
   "cell_type": "code",
   "execution_count": null,
   "metadata": {},
   "outputs": [],
   "source": [
    "with open(local_file, \"rb\") as data:\n",
    "    blob_client.upload_blob(data)"
   ]
  }
 ],
 "metadata": {
  "kernelspec": {
   "display_name": "venv",
   "language": "python",
   "name": "python3"
  },
  "language_info": {
   "codemirror_mode": {
    "name": "ipython",
    "version": 3
   },
   "file_extension": ".py",
   "mimetype": "text/x-python",
   "name": "python",
   "nbconvert_exporter": "python",
   "pygments_lexer": "ipython3",
   "version": "3.11.1"
  },
  "orig_nbformat": 4,
  "vscode": {
   "interpreter": {
    "hash": "9ef35089b387a514fce1d1aa2288e5164b31d47d8e47cc4e32d64c1d2357104c"
   }
  }
 },
 "nbformat": 4,
 "nbformat_minor": 2
}
