{
 "cells": [
  {
   "cell_type": "code",
   "execution_count": 1,
   "metadata": {},
   "outputs": [],
   "source": [
    "from azure.storage.blob import BlobServiceClient, ContainerClient, BlobClient "
   ]
  },
  {
   "attachments": {},
   "cell_type": "markdown",
   "metadata": {},
   "source": [
    "Create a container in azure using python"
   ]
  },
  {
   "cell_type": "code",
   "execution_count": 2,
   "metadata": {},
   "outputs": [],
   "source": [
    "# connection_string = \"<your-storage-account-connection-string>\" \n",
    "# container_name = \"<your-container-name>\" \n",
    "# blob_service_client = BlobServiceClient.from_connection_string(connection_string) \n",
    "# container_client = blob_service_client.get_container_client(container_name) \n",
    "# container_client.create_container()"
   ]
  },
  {
   "attachments": {},
   "cell_type": "markdown",
   "metadata": {},
   "source": [
    "To write to container using python"
   ]
  },
  {
   "cell_type": "code",
   "execution_count": null,
   "metadata": {},
   "outputs": [],
   "source": [
    "# from azure.storage.blob import BlobServiceClient, BlobClient\n",
    "# connection_string = \"<your-storage-account-connection-string>\" \n",
    "# container_name = \"<your-container-name>\" \n",
    "# file_path = \"<path-to-your-file>\" \n",
    "# blob_service_client = BlobServiceClient.from_connection_string(connection_string) \n",
    "# blob_client = blob_service_client.get_blob_client(container_name, file_path) \n",
    "\n",
    "# with open(file_path, \"rb\") as data:\n",
    "#     blob_client.upload_blob(data)"
   ]
  },
  {
   "cell_type": "code",
   "execution_count": 3,
   "metadata": {},
   "outputs": [],
   "source": [
    "connection_string = \"DefaultEndpointsProtocol=https;AccountName=spootanblob;AccountKey=ZpEuQuCPNTOFg091shh91DA5Um6EA2/U/oH0JJCxbZCyFwKnx0pVwEajZh5Qj3Hg4Ha26dDXhpuu+AStvuwOuA==;EndpointSuffix=core.windows.net\" \n",
    "container_name = \"databricks\" \n",
    "file_path = \"gapminder.csv\" \n",
    "blob_service_client = BlobServiceClient.from_connection_string(connection_string) \n",
    "blob_client = blob_service_client.get_blob_client(container_name, file_path) "
   ]
  },
  {
   "cell_type": "code",
   "execution_count": 6,
   "metadata": {},
   "outputs": [],
   "source": [
    "# Download the file to a local temporary directory\n",
    "local_file = 'temp_file.csv'\n",
    "with open(local_file, \"wb\") as data:\n",
    "    data.write(blob_client.download_blob().readall())"
   ]
  },
  {
   "attachments": {},
   "cell_type": "markdown",
   "metadata": {},
   "source": [
    "Conduct transformations"
   ]
  },
  {
   "cell_type": "code",
   "execution_count": null,
   "metadata": {},
   "outputs": [],
   "source": [
    "with open(local_file, 'r') as data:\n",
    "    pass\n",
    "    # blob_client.upload_blob(data, overwrite=True)"
   ]
  },
  {
   "cell_type": "code",
   "execution_count": 5,
   "metadata": {},
   "outputs": [],
   "source": [
    "with open(local_file, \"rb\") as data: \n",
    "    blob_client.upload_blob(data, overwrite=True)"
   ]
  }
 ],
 "metadata": {
  "kernelspec": {
   "display_name": "venv",
   "language": "python",
   "name": "python3"
  },
  "language_info": {
   "codemirror_mode": {
    "name": "ipython",
    "version": 3
   },
   "file_extension": ".py",
   "mimetype": "text/x-python",
   "name": "python",
   "nbconvert_exporter": "python",
   "pygments_lexer": "ipython3",
   "version": "3.11.1"
  },
  "orig_nbformat": 4,
  "vscode": {
   "interpreter": {
    "hash": "9ef35089b387a514fce1d1aa2288e5164b31d47d8e47cc4e32d64c1d2357104c"
   }
  }
 },
 "nbformat": 4,
 "nbformat_minor": 2
}
