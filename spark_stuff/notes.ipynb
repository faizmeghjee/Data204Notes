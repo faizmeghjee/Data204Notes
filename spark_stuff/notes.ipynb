{
 "cells": [
  {
   "cell_type": "code",
   "execution_count": 208,
   "metadata": {},
   "outputs": [],
   "source": [
    "from pyspark.sql import SparkSession\n",
    "from pyspark.sql.types import StructType, StructField, StringType, IntegerType\n",
    "from pyspark.sql.functions import desc, asc, col, avg, sum, max, min, mean, count, round\n",
    "\n",
    "spark = SparkSession.builder.appName(\"local_spark\").getOrCreate()"
   ]
  },
  {
   "cell_type": "code",
   "execution_count": 161,
   "metadata": {},
   "outputs": [
    {
     "data": {
      "text/html": [
       "\n",
       "            <div>\n",
       "                <p><b>SparkSession - in-memory</b></p>\n",
       "                \n",
       "        <div>\n",
       "            <p><b>SparkContext</b></p>\n",
       "\n",
       "            <p><a href=\"http://faizm:4040\">Spark UI</a></p>\n",
       "\n",
       "            <dl>\n",
       "              <dt>Version</dt>\n",
       "                <dd><code>v3.3.1</code></dd>\n",
       "              <dt>Master</dt>\n",
       "                <dd><code>local[*]</code></dd>\n",
       "              <dt>AppName</dt>\n",
       "                <dd><code>local_spark</code></dd>\n",
       "            </dl>\n",
       "        </div>\n",
       "        \n",
       "            </div>\n",
       "        "
      ],
      "text/plain": [
       "<pyspark.sql.session.SparkSession at 0x1c969d77710>"
      ]
     },
     "execution_count": 161,
     "metadata": {},
     "output_type": "execute_result"
    }
   ],
   "source": [
    "spark"
   ]
  },
  {
   "attachments": {},
   "cell_type": "markdown",
   "metadata": {},
   "source": [
    "1)\tRead data from CSV"
   ]
  },
  {
   "attachments": {},
   "cell_type": "markdown",
   "metadata": {},
   "source": [
    "'header=True' Removes header row"
   ]
  },
  {
   "cell_type": "code",
   "execution_count": 162,
   "metadata": {},
   "outputs": [],
   "source": [
    "sparkdf = spark.read.csv('students.csv',header=True,inferSchema=True)"
   ]
  },
  {
   "attachments": {},
   "cell_type": "markdown",
   "metadata": {},
   "source": [
    "2)\tPrint 5 rows ( !!! head() method behaves differently in pySpark)"
   ]
  },
  {
   "attachments": {},
   "cell_type": "markdown",
   "metadata": {},
   "source": [
    "Matrix"
   ]
  },
  {
   "cell_type": "code",
   "execution_count": 163,
   "metadata": {},
   "outputs": [
    {
     "data": {
      "text/plain": [
       "[Row(id=1, name='Emily Hardie', class='Four', mark=75, gender='female'),\n",
       " Row(id=2, name='John Star', class='Three', mark=85, gender='male'),\n",
       " Row(id=3, name='Arnold Walker ', class='Three', mark=55, gender='male'),\n",
       " Row(id=4, name='Reana Talu', class='Four', mark=60, gender='female'),\n",
       " Row(id=5, name='Sidona Williams', class='Four', mark=60, gender='female')]"
      ]
     },
     "execution_count": 163,
     "metadata": {},
     "output_type": "execute_result"
    }
   ],
   "source": [
    "sparkdf.head(5)"
   ]
  },
  {
   "attachments": {},
   "cell_type": "markdown",
   "metadata": {},
   "source": [
    "Table"
   ]
  },
  {
   "attachments": {},
   "cell_type": "markdown",
   "metadata": {},
   "source": [
    "'.show(truncate=True)' Overwrites dataframe"
   ]
  },
  {
   "cell_type": "code",
   "execution_count": 164,
   "metadata": {},
   "outputs": [
    {
     "name": "stdout",
     "output_type": "stream",
     "text": [
      "+---+---------------+-----+----+------+\n",
      "| id|           name|class|mark|gender|\n",
      "+---+---------------+-----+----+------+\n",
      "|  1|   Emily Hardie| Four|  75|female|\n",
      "|  2|      John Star|Three|  85|  male|\n",
      "|  3| Arnold Walker |Three|  55|  male|\n",
      "|  4|     Reana Talu| Four|  60|female|\n",
      "|  5|Sidona Williams| Four|  60|female|\n",
      "+---+---------------+-----+----+------+\n",
      "only showing top 5 rows\n",
      "\n"
     ]
    }
   ],
   "source": [
    "sparkdf.show(5)"
   ]
  },
  {
   "cell_type": "code",
   "execution_count": 165,
   "metadata": {},
   "outputs": [],
   "source": [
    "sparkdf2=spark.read.format('csv').option('inferSchema',True).option('header',True).option('sep',True).load('students.csv')"
   ]
  },
  {
   "attachments": {},
   "cell_type": "markdown",
   "metadata": {},
   "source": [
    "3)\tShow schema of the spark data frame."
   ]
  },
  {
   "cell_type": "code",
   "execution_count": 166,
   "metadata": {},
   "outputs": [
    {
     "name": "stdout",
     "output_type": "stream",
     "text": [
      "root\n",
      " |-- id: integer (nullable = true)\n",
      " |-- name: string (nullable = true)\n",
      " |-- class: string (nullable = true)\n",
      " |-- mark: integer (nullable = true)\n",
      " |-- gender: string (nullable = true)\n",
      "\n"
     ]
    }
   ],
   "source": [
    "sparkdf.printSchema()"
   ]
  },
  {
   "attachments": {},
   "cell_type": "markdown",
   "metadata": {},
   "source": [
    "4)\tUpdate schema after reading form CSV. (StructField)"
   ]
  },
  {
   "cell_type": "code",
   "execution_count": 167,
   "metadata": {},
   "outputs": [
    {
     "name": "stdout",
     "output_type": "stream",
     "text": [
      "root\n",
      " |-- id: integer (nullable = true)\n",
      " |-- name: string (nullable = true)\n",
      " |-- class: string (nullable = true)\n",
      " |-- mark: integer (nullable = true)\n",
      " |-- gender: string (nullable = true)\n",
      "\n",
      "+---+----------------+-----+----+------+\n",
      "| id|            name|class|mark|gender|\n",
      "+---+----------------+-----+----+------+\n",
      "|  1|    Emily Hardie| Four|  75|female|\n",
      "|  2|       John Star|Three|  85|  male|\n",
      "|  3|  Arnold Walker |Three|  55|  male|\n",
      "|  4|      Reana Talu| Four|  60|female|\n",
      "|  5| Sidona Williams| Four|  60|female|\n",
      "|  6|       Alex John| Four|  55|  male|\n",
      "|  7|    Robert John |Three|  78|  male|\n",
      "|  8|       Lee Malva| Four|  85|  male|\n",
      "|  9|    Wookie Davey|  Two|  78|  male|\n",
      "| 10|      Diane Rose|  Two|  55|female|\n",
      "| 11|    Holly Daives|  Two|  89|female|\n",
      "| 12|        Eva Cup |Three|  94|female|\n",
      "| 13| Victoria Mathew| Four|  88|female|\n",
      "| 14|       Iris Zhao|  Two|  88|female|\n",
      "| 15|       Scott Row| Four|  88|  male|\n",
      "| 16|     Daniel Page| Four|  88|  male|\n",
      "| 17|  James Williams|Three|  54|  male|\n",
      "| 18|Martin Johnston | Four|  75|  male|\n",
      "| 19|     John Smith | Four|  48|  male|\n",
      "| 20|       Lenny Lee|Three|  65|female|\n",
      "+---+----------------+-----+----+------+\n",
      "only showing top 20 rows\n",
      "\n"
     ]
    }
   ],
   "source": [
    "schema = StructType([\n",
    "        StructField(\"id\", IntegerType(), False),\n",
    "        StructField(\"name\", StringType(), True),\n",
    "        StructField(\"class\", StringType(), True),\n",
    "        StructField(\"mark\", IntegerType(), True),\n",
    "        StructField(\"gender\", StringType(), True)])\n",
    "\n",
    "df = spark.read.csv('students.csv', header=True, schema=schema)\n",
    "df.printSchema()\n",
    "df.show()"
   ]
  },
  {
   "attachments": {},
   "cell_type": "markdown",
   "metadata": {},
   "source": [
    "Updates schema without reading file again"
   ]
  },
  {
   "cell_type": "code",
   "execution_count": 200,
   "metadata": {},
   "outputs": [
    {
     "name": "stdout",
     "output_type": "stream",
     "text": [
      "root\n",
      " |-- id: integer (nullable = true)\n",
      " |-- name: string (nullable = true)\n",
      " |-- class: string (nullable = true)\n",
      " |-- MARK: integer (nullable = true)\n",
      " |-- gender: string (nullable = true)\n",
      "\n"
     ]
    }
   ],
   "source": [
    "df.withColumn('MARK', col('mark').cast(IntegerType())).printSchema()"
   ]
  },
  {
   "attachments": {},
   "cell_type": "markdown",
   "metadata": {},
   "source": [
    "5)\tGive schema as option while reading from CSV"
   ]
  },
  {
   "cell_type": "code",
   "execution_count": 168,
   "metadata": {},
   "outputs": [],
   "source": [
    "df = spark.read.csv('students.csv', header=True, schema=schema)"
   ]
  },
  {
   "attachments": {},
   "cell_type": "markdown",
   "metadata": {},
   "source": [
    "6)\tShow columns and show summary statistics of numeric columns"
   ]
  },
  {
   "attachments": {},
   "cell_type": "markdown",
   "metadata": {},
   "source": [
    "No quartiles"
   ]
  },
  {
   "cell_type": "code",
   "execution_count": 201,
   "metadata": {},
   "outputs": [
    {
     "name": "stdout",
     "output_type": "stream",
     "text": [
      "+-------+------------------+---------+-----+-----------------+------+\n",
      "|summary|                id|     name|class|             mark|gender|\n",
      "+-------+------------------+---------+-----+-----------------+------+\n",
      "|  count|                35|       36|   36|               35|    36|\n",
      "|   mean|              18.0|     null| null|75.51428571428572|  null|\n",
      "| stddev|10.246950765959598|     null| null|13.95448784772974|  null|\n",
      "|    min|                 1|Alex John| Four|               48|female|\n",
      "|    max|                35|     name|class|               96|  male|\n",
      "+-------+------------------+---------+-----+-----------------+------+\n",
      "\n"
     ]
    }
   ],
   "source": [
    "df.describe().show()"
   ]
  },
  {
   "attachments": {},
   "cell_type": "markdown",
   "metadata": {},
   "source": [
    "With quartiles"
   ]
  },
  {
   "cell_type": "code",
   "execution_count": 202,
   "metadata": {},
   "outputs": [
    {
     "name": "stdout",
     "output_type": "stream",
     "text": [
      "+-------+------------------+---------+-----+-----------------+------+\n",
      "|summary|                id|     name|class|             mark|gender|\n",
      "+-------+------------------+---------+-----+-----------------+------+\n",
      "|  count|                35|       36|   36|               35|    36|\n",
      "|   mean|              18.0|     null| null|75.51428571428572|  null|\n",
      "| stddev|10.246950765959598|     null| null|13.95448784772974|  null|\n",
      "|    min|                 1|Alex John| Four|               48|female|\n",
      "|    25%|                 9|     null| null|               60|  null|\n",
      "|    50%|                18|     null| null|               79|  null|\n",
      "|    75%|                27|     null| null|               88|  null|\n",
      "|    max|                35|     name|class|               96|  male|\n",
      "+-------+------------------+---------+-----+-----------------+------+\n",
      "\n"
     ]
    }
   ],
   "source": [
    "df.summary().show()"
   ]
  },
  {
   "attachments": {},
   "cell_type": "markdown",
   "metadata": {},
   "source": [
    "7)\tRead from JSON"
   ]
  },
  {
   "cell_type": "code",
   "execution_count": 171,
   "metadata": {},
   "outputs": [],
   "source": [
    "json_spark_df = spark.read.json('people.json')"
   ]
  },
  {
   "attachments": {},
   "cell_type": "markdown",
   "metadata": {},
   "source": [
    "8)\tSubset the Dataframe for one and then more than one columns. "
   ]
  },
  {
   "cell_type": "code",
   "execution_count": 172,
   "metadata": {},
   "outputs": [
    {
     "name": "stdout",
     "output_type": "stream",
     "text": [
      "+----+----------------+----+\n",
      "|  id|            name|mark|\n",
      "+----+----------------+----+\n",
      "|null|            name|null|\n",
      "|   1|    Emily Hardie|  75|\n",
      "|   2|       John Star|  85|\n",
      "|   3|  Arnold Walker |  55|\n",
      "|   4|      Reana Talu|  60|\n",
      "|   5| Sidona Williams|  60|\n",
      "|   6|       Alex John|  55|\n",
      "|   7|    Robert John |  78|\n",
      "|   8|       Lee Malva|  85|\n",
      "|   9|    Wookie Davey|  78|\n",
      "|  10|      Diane Rose|  55|\n",
      "|  11|    Holly Daives|  89|\n",
      "|  12|        Eva Cup |  94|\n",
      "|  13| Victoria Mathew|  88|\n",
      "|  14|       Iris Zhao|  88|\n",
      "|  15|       Scott Row|  88|\n",
      "|  16|     Daniel Page|  88|\n",
      "|  17|  James Williams|  54|\n",
      "|  18|Martin Johnston |  75|\n",
      "|  19|     John Smith |  48|\n",
      "+----+----------------+----+\n",
      "only showing top 20 rows\n",
      "\n"
     ]
    }
   ],
   "source": [
    "id = df.select('id')\n",
    "\n",
    "id_name_mark = df.select(\n",
    "    'id',\n",
    "    'name',\n",
    "    'mark'\n",
    ")\n",
    "\n",
    "id_name_mark.show()"
   ]
  },
  {
   "attachments": {},
   "cell_type": "markdown",
   "metadata": {},
   "source": [
    "9)\tFilter Data frame based on condition.\\\n",
    "•\tFilter according to gender\\\n",
    "•\tFilter according to mark >50\\\n",
    "•\tFilter by multiple conditions"
   ]
  },
  {
   "cell_type": "code",
   "execution_count": 173,
   "metadata": {},
   "outputs": [
    {
     "name": "stdout",
     "output_type": "stream",
     "text": [
      "+---+----------------+-----+----+------+\n",
      "| id|            name|class|mark|gender|\n",
      "+---+----------------+-----+----+------+\n",
      "|  2|       John Star|Three|  85|  male|\n",
      "|  3|  Arnold Walker |Three|  55|  male|\n",
      "|  6|       Alex John| Four|  55|  male|\n",
      "|  7|    Robert John |Three|  78|  male|\n",
      "|  8|       Lee Malva| Four|  85|  male|\n",
      "|  9|    Wookie Davey|  Two|  78|  male|\n",
      "| 15|       Scott Row| Four|  88|  male|\n",
      "| 16|     Daniel Page| Four|  88|  male|\n",
      "| 17|  James Williams|Three|  54|  male|\n",
      "| 18|Martin Johnston | Four|  75|  male|\n",
      "| 19|     John Smith | Four|  48|  male|\n",
      "| 23|       Sam Adan |Three|  79|  male|\n",
      "| 24|   Nova Prescott|  Two|  78|  male|\n",
      "| 25|  William Taylor| Four|  88|  male|\n",
      "| 26|   Laurin Wilson|Three|  79|  male|\n",
      "| 29|         Ben Day| Four|  55|  male|\n",
      "| 31|      Chris Ball| Four|  88|  male|\n",
      "| 34|   Garry Richard|Three|  69|  male|\n",
      "+---+----------------+-----+----+------+\n",
      "\n",
      "+---+----------------+-----+----+------+\n",
      "| id|            name|class|mark|gender|\n",
      "+---+----------------+-----+----+------+\n",
      "|  1|    Emily Hardie| Four|  75|female|\n",
      "|  2|       John Star|Three|  85|  male|\n",
      "|  3|  Arnold Walker |Three|  55|  male|\n",
      "|  4|      Reana Talu| Four|  60|female|\n",
      "|  5| Sidona Williams| Four|  60|female|\n",
      "|  6|       Alex John| Four|  55|  male|\n",
      "|  7|    Robert John |Three|  78|  male|\n",
      "|  8|       Lee Malva| Four|  85|  male|\n",
      "|  9|    Wookie Davey|  Two|  78|  male|\n",
      "| 10|      Diane Rose|  Two|  55|female|\n",
      "| 11|    Holly Daives|  Two|  89|female|\n",
      "| 12|        Eva Cup |Three|  94|female|\n",
      "| 13| Victoria Mathew| Four|  88|female|\n",
      "| 14|       Iris Zhao|  Two|  88|female|\n",
      "| 15|       Scott Row| Four|  88|  male|\n",
      "| 16|     Daniel Page| Four|  88|  male|\n",
      "| 17|  James Williams|Three|  54|  male|\n",
      "| 18|Martin Johnston | Four|  75|  male|\n",
      "| 20|       Lenny Lee|Three|  65|female|\n",
      "| 21|    Ava Williams|  Two|  69|female|\n",
      "+---+----------------+-----+----+------+\n",
      "only showing top 20 rows\n",
      "\n",
      "+---+----------------+-----+----+------+\n",
      "| id|            name|class|mark|gender|\n",
      "+---+----------------+-----+----+------+\n",
      "|  2|       John Star|Three|  85|  male|\n",
      "|  3|  Arnold Walker |Three|  55|  male|\n",
      "|  6|       Alex John| Four|  55|  male|\n",
      "|  7|    Robert John |Three|  78|  male|\n",
      "|  8|       Lee Malva| Four|  85|  male|\n",
      "|  9|    Wookie Davey|  Two|  78|  male|\n",
      "| 15|       Scott Row| Four|  88|  male|\n",
      "| 16|     Daniel Page| Four|  88|  male|\n",
      "| 17|  James Williams|Three|  54|  male|\n",
      "| 18|Martin Johnston | Four|  75|  male|\n",
      "| 23|       Sam Adan |Three|  79|  male|\n",
      "| 24|   Nova Prescott|  Two|  78|  male|\n",
      "| 25|  William Taylor| Four|  88|  male|\n",
      "| 26|   Laurin Wilson|Three|  79|  male|\n",
      "| 29|         Ben Day| Four|  55|  male|\n",
      "| 31|      Chris Ball| Four|  88|  male|\n",
      "| 34|   Garry Richard|Three|  69|  male|\n",
      "+---+----------------+-----+----+------+\n",
      "\n"
     ]
    }
   ],
   "source": [
    "df.filter(df.gender=='male').show()\n",
    "df.filter(df.mark>50).show()\n",
    "df.filter((df.gender == 'male') & (df.mark > 50)).show()"
   ]
  },
  {
   "attachments": {},
   "cell_type": "markdown",
   "metadata": {},
   "source": [
    "10)\tAdd new column,\\\n",
    "•\tNew column name: corrected mark\\\n",
    "•\tIt has values mark+3"
   ]
  },
  {
   "cell_type": "code",
   "execution_count": 174,
   "metadata": {},
   "outputs": [
    {
     "name": "stdout",
     "output_type": "stream",
     "text": [
      "+---+----------------+-----+----+------+--------------+\n",
      "| id|            name|class|mark|gender|corrected_mark|\n",
      "+---+----------------+-----+----+------+--------------+\n",
      "|  1|    Emily Hardie| Four|  75|female|            78|\n",
      "|  2|       John Star|Three|  85|  male|            88|\n",
      "|  3|  Arnold Walker |Three|  55|  male|            58|\n",
      "|  4|      Reana Talu| Four|  60|female|            63|\n",
      "|  5| Sidona Williams| Four|  60|female|            63|\n",
      "|  6|       Alex John| Four|  55|  male|            58|\n",
      "|  7|    Robert John |Three|  78|  male|            81|\n",
      "|  8|       Lee Malva| Four|  85|  male|            88|\n",
      "|  9|    Wookie Davey|  Two|  78|  male|            81|\n",
      "| 10|      Diane Rose|  Two|  55|female|            58|\n",
      "| 11|    Holly Daives|  Two|  89|female|            92|\n",
      "| 12|        Eva Cup |Three|  94|female|            97|\n",
      "| 13| Victoria Mathew| Four|  88|female|            91|\n",
      "| 14|       Iris Zhao|  Two|  88|female|            91|\n",
      "| 15|       Scott Row| Four|  88|  male|            91|\n",
      "| 16|     Daniel Page| Four|  88|  male|            91|\n",
      "| 17|  James Williams|Three|  54|  male|            57|\n",
      "| 18|Martin Johnston | Four|  75|  male|            78|\n",
      "| 19|     John Smith | Four|  48|  male|            51|\n",
      "| 20|       Lenny Lee|Three|  65|female|            68|\n",
      "+---+----------------+-----+----+------+--------------+\n",
      "only showing top 20 rows\n",
      "\n"
     ]
    }
   ],
   "source": [
    "sparkdf.withColumn('corrected_mark', (sparkdf.mark + 3)).show(truncate=True)"
   ]
  },
  {
   "attachments": {},
   "cell_type": "markdown",
   "metadata": {},
   "source": [
    "11)\tGroupby gender\\\n",
    "•\tCalculate the average mark for each gender\\\n",
    "•\tMax\\\n",
    "•\tMin"
   ]
  },
  {
   "cell_type": "code",
   "execution_count": 209,
   "metadata": {},
   "outputs": [
    {
     "name": "stdout",
     "output_type": "stream",
     "text": [
      "+------+-----------------+\n",
      "|gender|        avg(mark)|\n",
      "+------+-----------------+\n",
      "|female|77.52941176470588|\n",
      "|  male|73.61111111111111|\n",
      "+------+-----------------+\n",
      "\n",
      "+------+---------+\n",
      "|gender|min(mark)|\n",
      "+------+---------+\n",
      "|female|       55|\n",
      "|  male|       48|\n",
      "+------+---------+\n",
      "\n",
      "+------+---------+\n",
      "|gender|max(mark)|\n",
      "+------+---------+\n",
      "|female|       96|\n",
      "|  male|       88|\n",
      "+------+---------+\n",
      "\n",
      "+------+-----+---+---+\n",
      "|gender|  Avg|Max|Min|\n",
      "+------+-----+---+---+\n",
      "|female|77.53| 96| 55|\n",
      "|  male|73.61| 88| 48|\n",
      "+------+-----+---+---+\n",
      "\n"
     ]
    }
   ],
   "source": [
    "sparkdf.groupBy('gender').avg('mark').show()\n",
    "sparkdf.groupBy('gender').min('mark').show()\n",
    "sparkdf.groupBy('gender').max('mark').show()\n",
    "sparkdf.groupBy('gender')\\\n",
    ".agg((round(avg('mark'),2).alias('Avg')),max('mark').alias('Max'),min('mark').alias('Min')).show()"
   ]
  },
  {
   "attachments": {},
   "cell_type": "markdown",
   "metadata": {},
   "source": [
    "12. Aggregation:\\\n",
    "•\tCalculate the average mark of all students."
   ]
  },
  {
   "cell_type": "code",
   "execution_count": 176,
   "metadata": {},
   "outputs": [
    {
     "name": "stdout",
     "output_type": "stream",
     "text": [
      "+-----------------+\n",
      "|        avg(mark)|\n",
      "+-----------------+\n",
      "|75.51428571428572|\n",
      "+-----------------+\n",
      "\n"
     ]
    }
   ],
   "source": [
    "sparkdf.groupBy().avg('mark').show()"
   ]
  },
  {
   "attachments": {},
   "cell_type": "markdown",
   "metadata": {},
   "source": [
    "13)\tOrder by \n",
    "- “class”\n",
    "- “mark”\n",
    "- “mark” and descending order."
   ]
  },
  {
   "cell_type": "code",
   "execution_count": 177,
   "metadata": {},
   "outputs": [
    {
     "name": "stdout",
     "output_type": "stream",
     "text": [
      "+---+----------------+-----+----+------+\n",
      "| id|            name|class|mark|gender|\n",
      "+---+----------------+-----+----+------+\n",
      "|  5| Sidona Williams| Four|  60|female|\n",
      "| 13| Victoria Mathew| Four|  88|female|\n",
      "| 15|       Scott Row| Four|  88|  male|\n",
      "|  6|       Alex John| Four|  55|  male|\n",
      "|  1|    Emily Hardie| Four|  75|female|\n",
      "| 25|  William Taylor| Four|  88|  male|\n",
      "| 28|  Emily Thompson| Four|  86|female|\n",
      "| 29|         Ben Day| Four|  55|  male|\n",
      "| 31|      Chris Ball| Four|  88|  male|\n",
      "| 32|        Ela Love| Four|  90|female|\n",
      "| 33|   Elisa Richard| Four|  96|female|\n",
      "| 16|     Daniel Page| Four|  88|  male|\n",
      "| 18|Martin Johnston | Four|  75|  male|\n",
      "|  4|      Reana Talu| Four|  60|female|\n",
      "| 19|     John Smith | Four|  48|  male|\n",
      "|  8|       Lee Malva| Four|  85|  male|\n",
      "|  2|       John Star|Three|  85|  male|\n",
      "|  3|  Arnold Walker |Three|  55|  male|\n",
      "|  7|    Robert John |Three|  78|  male|\n",
      "| 12|        Eva Cup |Three|  94|female|\n",
      "+---+----------------+-----+----+------+\n",
      "only showing top 20 rows\n",
      "\n",
      "+---+----------------+-----+----+------+\n",
      "| id|            name|class|mark|gender|\n",
      "+---+----------------+-----+----+------+\n",
      "| 19|     John Smith | Four|  48|  male|\n",
      "| 17|  James Williams|Three|  54|  male|\n",
      "| 22|    Katie Connon|  Two|  55|female|\n",
      "| 29|         Ben Day| Four|  55|  male|\n",
      "|  3|  Arnold Walker |Three|  55|  male|\n",
      "|  6|       Alex John| Four|  55|  male|\n",
      "| 10|      Diane Rose|  Two|  55|female|\n",
      "|  5| Sidona Williams| Four|  60|female|\n",
      "|  4|      Reana Talu| Four|  60|female|\n",
      "| 20|       Lenny Lee|Three|  65|female|\n",
      "| 34|   Garry Richard|Three|  69|  male|\n",
      "| 21|    Ava Williams|  Two|  69|female|\n",
      "|  1|    Emily Hardie| Four|  75|female|\n",
      "| 18|Martin Johnston | Four|  75|  male|\n",
      "|  7|    Robert John |Three|  78|  male|\n",
      "|  9|    Wookie Davey|  Two|  78|  male|\n",
      "| 24|   Nova Prescott|  Two|  78|  male|\n",
      "| 23|       Sam Adan |Three|  79|  male|\n",
      "| 26|   Laurin Wilson|Three|  79|  male|\n",
      "| 30|     Rabiya Khan|Three|  79|female|\n",
      "+---+----------------+-----+----+------+\n",
      "only showing top 20 rows\n",
      "\n",
      "+---+---------------+-----+----+------+\n",
      "| id|           name|class|mark|gender|\n",
      "+---+---------------+-----+----+------+\n",
      "| 33|  Elisa Richard| Four|  96|female|\n",
      "| 12|       Eva Cup |Three|  94|female|\n",
      "| 32|       Ela Love| Four|  90|female|\n",
      "| 11|   Holly Daives|  Two|  89|female|\n",
      "| 13|Victoria Mathew| Four|  88|female|\n",
      "| 16|    Daniel Page| Four|  88|  male|\n",
      "| 35|     Ria Wright|  Two|  88|female|\n",
      "| 14|      Iris Zhao|  Two|  88|female|\n",
      "| 15|      Scott Row| Four|  88|  male|\n",
      "| 25| William Taylor| Four|  88|  male|\n",
      "| 31|     Chris Ball| Four|  88|  male|\n",
      "| 28| Emily Thompson| Four|  86|female|\n",
      "|  2|      John Star|Three|  85|  male|\n",
      "|  8|      Lee Malva| Four|  85|  male|\n",
      "| 27|Fatemah Abraham|Three|  81|female|\n",
      "| 26|  Laurin Wilson|Three|  79|  male|\n",
      "| 30|    Rabiya Khan|Three|  79|female|\n",
      "| 23|      Sam Adan |Three|  79|  male|\n",
      "|  7|   Robert John |Three|  78|  male|\n",
      "|  9|   Wookie Davey|  Two|  78|  male|\n",
      "+---+---------------+-----+----+------+\n",
      "only showing top 20 rows\n",
      "\n"
     ]
    }
   ],
   "source": [
    "sparkdf.orderBy('class').show()\n",
    "sparkdf.orderBy(asc('mark')).show()\n",
    "sparkdf.orderBy(desc('mark')).show()"
   ]
  },
  {
   "attachments": {},
   "cell_type": "markdown",
   "metadata": {},
   "source": [
    "14)\tAccess to specific row( hint: collect() method)  and then convert it to dictionary. "
   ]
  },
  {
   "cell_type": "code",
   "execution_count": 181,
   "metadata": {},
   "outputs": [
    {
     "name": "stdout",
     "output_type": "stream",
     "text": [
      "Row(id=1, name='Emily Hardie', class='Four', mark=75, gender='female')\n",
      "{'id': 1, 'name': 'Emily Hardie', 'class': 'Four', 'mark': 75, 'gender': 'female'}\n"
     ]
    }
   ],
   "source": [
    "first_row = sparkdf.collect()[0]\n",
    "my_dict = first_row.asDict()\n",
    "print(first_row)\n",
    "print(my_dict)"
   ]
  },
  {
   "attachments": {},
   "cell_type": "markdown",
   "metadata": {},
   "source": [
    "15. Create a view from the dataframe and filter it by using SQL syntax."
   ]
  },
  {
   "cell_type": "code",
   "execution_count": 179,
   "metadata": {},
   "outputs": [
    {
     "name": "stdout",
     "output_type": "stream",
     "text": [
      "+---+----------------+-----+----+------+\n",
      "| id|            name|class|mark|gender|\n",
      "+---+----------------+-----+----+------+\n",
      "|  2|       John Star|Three|  85|  male|\n",
      "|  3|  Arnold Walker |Three|  55|  male|\n",
      "|  6|       Alex John| Four|  55|  male|\n",
      "|  7|    Robert John |Three|  78|  male|\n",
      "|  8|       Lee Malva| Four|  85|  male|\n",
      "|  9|    Wookie Davey|  Two|  78|  male|\n",
      "| 15|       Scott Row| Four|  88|  male|\n",
      "| 16|     Daniel Page| Four|  88|  male|\n",
      "| 17|  James Williams|Three|  54|  male|\n",
      "| 18|Martin Johnston | Four|  75|  male|\n",
      "| 19|     John Smith | Four|  48|  male|\n",
      "| 23|       Sam Adan |Three|  79|  male|\n",
      "| 24|   Nova Prescott|  Two|  78|  male|\n",
      "| 25|  William Taylor| Four|  88|  male|\n",
      "| 26|   Laurin Wilson|Three|  79|  male|\n",
      "| 29|         Ben Day| Four|  55|  male|\n",
      "| 31|      Chris Ball| Four|  88|  male|\n",
      "| 34|   Garry Richard|Three|  69|  male|\n",
      "+---+----------------+-----+----+------+\n",
      "\n"
     ]
    }
   ],
   "source": [
    "sparkdf.createOrReplaceTempView('temp_view')\n",
    "spark.sql(\n",
    "    '''\n",
    "    SELECT *\n",
    "    FROM temp_view\n",
    "    WHERE gender = \"male\"\n",
    "    '''\n",
    ").show()"
   ]
  }
 ],
 "metadata": {
  "kernelspec": {
   "display_name": "venv",
   "language": "python",
   "name": "python3"
  },
  "language_info": {
   "codemirror_mode": {
    "name": "ipython",
    "version": 3
   },
   "file_extension": ".py",
   "mimetype": "text/x-python",
   "name": "python",
   "nbconvert_exporter": "python",
   "pygments_lexer": "ipython3",
   "version": "3.11.1"
  },
  "orig_nbformat": 4,
  "vscode": {
   "interpreter": {
    "hash": "9ef35089b387a514fce1d1aa2288e5164b31d47d8e47cc4e32d64c1d2357104c"
   }
  }
 },
 "nbformat": 4,
 "nbformat_minor": 2
}
