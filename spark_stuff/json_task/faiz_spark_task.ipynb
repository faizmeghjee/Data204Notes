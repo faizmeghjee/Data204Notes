{
 "cells": [
  {
   "attachments": {},
   "cell_type": "markdown",
   "metadata": {},
   "source": [
    "# What are the most popular shows by language"
   ]
  },
  {
   "cell_type": "code",
   "execution_count": 1,
   "metadata": {},
   "outputs": [],
   "source": [
    "from pyspark.sql import SparkSession\n",
    "from pyspark.sql.types import StructType, StructField, StringType, IntegerType, DateType\n",
    "from pyspark.sql.functions import desc, asc, col, avg, round, sum, max, min, mean, count, filter, isnan, when, regexp_replace\n",
    "\n",
    "spark = SparkSession.builder.appName(\"local_spark\").getOrCreate()"
   ]
  },
  {
   "attachments": {},
   "cell_type": "markdown",
   "metadata": {},
   "source": [
    "Reads file"
   ]
  },
  {
   "cell_type": "code",
   "execution_count": 2,
   "metadata": {},
   "outputs": [],
   "source": [
    "df = spark.read.json('tv_shows.json')"
   ]
  },
  {
   "attachments": {},
   "cell_type": "markdown",
   "metadata": {},
   "source": [
    "Prints Schema"
   ]
  },
  {
   "cell_type": "code",
   "execution_count": 3,
   "metadata": {},
   "outputs": [
    {
     "name": "stdout",
     "output_type": "stream",
     "text": [
      "root\n",
      " |-- _links: struct (nullable = true)\n",
      " |    |-- nextepisode: struct (nullable = true)\n",
      " |    |    |-- href: string (nullable = true)\n",
      " |    |-- previousepisode: struct (nullable = true)\n",
      " |    |    |-- href: string (nullable = true)\n",
      " |    |-- self: struct (nullable = true)\n",
      " |    |    |-- href: string (nullable = true)\n",
      " |-- averageRuntime: long (nullable = true)\n",
      " |-- dvdCountry: struct (nullable = true)\n",
      " |    |-- code: string (nullable = true)\n",
      " |    |-- name: string (nullable = true)\n",
      " |    |-- timezone: string (nullable = true)\n",
      " |-- ended: string (nullable = true)\n",
      " |-- externals: struct (nullable = true)\n",
      " |    |-- imdb: string (nullable = true)\n",
      " |    |-- thetvdb: long (nullable = true)\n",
      " |    |-- tvrage: long (nullable = true)\n",
      " |-- genres: array (nullable = true)\n",
      " |    |-- element: string (containsNull = true)\n",
      " |-- id: long (nullable = true)\n",
      " |-- image: struct (nullable = true)\n",
      " |    |-- medium: string (nullable = true)\n",
      " |    |-- original: string (nullable = true)\n",
      " |-- language: string (nullable = true)\n",
      " |-- name: string (nullable = true)\n",
      " |-- network: struct (nullable = true)\n",
      " |    |-- country: struct (nullable = true)\n",
      " |    |    |-- code: string (nullable = true)\n",
      " |    |    |-- name: string (nullable = true)\n",
      " |    |    |-- timezone: string (nullable = true)\n",
      " |    |-- id: long (nullable = true)\n",
      " |    |-- name: string (nullable = true)\n",
      " |-- officialSite: string (nullable = true)\n",
      " |-- premiered: string (nullable = true)\n",
      " |-- rating: struct (nullable = true)\n",
      " |    |-- average: double (nullable = true)\n",
      " |-- runtime: long (nullable = true)\n",
      " |-- schedule: struct (nullable = true)\n",
      " |    |-- days: array (nullable = true)\n",
      " |    |    |-- element: string (containsNull = true)\n",
      " |    |-- time: string (nullable = true)\n",
      " |-- status: string (nullable = true)\n",
      " |-- summary: string (nullable = true)\n",
      " |-- type: string (nullable = true)\n",
      " |-- updated: long (nullable = true)\n",
      " |-- url: string (nullable = true)\n",
      " |-- webChannel: struct (nullable = true)\n",
      " |    |-- country: struct (nullable = true)\n",
      " |    |    |-- code: string (nullable = true)\n",
      " |    |    |-- name: string (nullable = true)\n",
      " |    |    |-- timezone: string (nullable = true)\n",
      " |    |-- id: long (nullable = true)\n",
      " |    |-- name: string (nullable = true)\n",
      " |-- weight: long (nullable = true)\n",
      "\n"
     ]
    }
   ],
   "source": [
    "df.printSchema()"
   ]
  },
  {
   "attachments": {},
   "cell_type": "markdown",
   "metadata": {},
   "source": [
    "Prints datatypes"
   ]
  },
  {
   "cell_type": "code",
   "execution_count": 4,
   "metadata": {},
   "outputs": [
    {
     "data": {
      "text/plain": [
       "[('_links',\n",
       "  'struct<nextepisode:struct<href:string>,previousepisode:struct<href:string>,self:struct<href:string>>'),\n",
       " ('averageRuntime', 'bigint'),\n",
       " ('dvdCountry', 'struct<code:string,name:string,timezone:string>'),\n",
       " ('ended', 'string'),\n",
       " ('externals', 'struct<imdb:string,thetvdb:bigint,tvrage:bigint>'),\n",
       " ('genres', 'array<string>'),\n",
       " ('id', 'bigint'),\n",
       " ('image', 'struct<medium:string,original:string>'),\n",
       " ('language', 'string'),\n",
       " ('name', 'string'),\n",
       " ('network',\n",
       "  'struct<country:struct<code:string,name:string,timezone:string>,id:bigint,name:string>'),\n",
       " ('officialSite', 'string'),\n",
       " ('premiered', 'string'),\n",
       " ('rating', 'struct<average:double>'),\n",
       " ('runtime', 'bigint'),\n",
       " ('schedule', 'struct<days:array<string>,time:string>'),\n",
       " ('status', 'string'),\n",
       " ('summary', 'string'),\n",
       " ('type', 'string'),\n",
       " ('updated', 'bigint'),\n",
       " ('url', 'string'),\n",
       " ('webChannel',\n",
       "  'struct<country:struct<code:string,name:string,timezone:string>,id:bigint,name:string>'),\n",
       " ('weight', 'bigint')]"
      ]
     },
     "execution_count": 4,
     "metadata": {},
     "output_type": "execute_result"
    }
   ],
   "source": [
    "df.dtypes"
   ]
  },
  {
   "attachments": {},
   "cell_type": "markdown",
   "metadata": {},
   "source": [
    "Identifies number of nulls per column"
   ]
  },
  {
   "cell_type": "code",
   "execution_count": 5,
   "metadata": {},
   "outputs": [
    {
     "name": "stdout",
     "output_type": "stream",
     "text": [
      "+------+--------------+----------+-----+---------+------+---+-----+--------+----+-------+------------+---------+------+-------+--------+------+-------+----+-------+---+----------+------+\n",
      "|_links|averageRuntime|dvdCountry|ended|externals|genres| id|image|language|name|network|officialSite|premiered|rating|runtime|schedule|status|summary|type|updated|url|webChannel|weight|\n",
      "+------+--------------+----------+-----+---------+------+---+-----+--------+----+-------+------------+---------+------+-------+--------+------+-------+----+-------+---+----------+------+\n",
      "|     0|          3549|     55328|14216|        0|     0|  0| 6757|     360|   0|   8083|       21204|     2522|     0|   4774|       0|     0|   6952|   0|      0|  0|     46872|     0|\n",
      "+------+--------------+----------+-----+---------+------+---+-----+--------+----+-------+------------+---------+------+-------+--------+------+-------+----+-------+---+----------+------+\n",
      "\n"
     ]
    }
   ],
   "source": [
    "df.select([count(when(col(c).isNull(), c)).alias(c) for c in df.columns]).show()"
   ]
  },
  {
   "cell_type": "code",
   "execution_count": 6,
   "metadata": {},
   "outputs": [
    {
     "name": "stdout",
     "output_type": "stream",
     "text": [
      "+--------------+---+-------+-------+------+\n",
      "|averageRuntime| id|runtime|updated|weight|\n",
      "+--------------+---+-------+-------+------+\n",
      "|          3549|  0|   4774|      0|     0|\n",
      "+--------------+---+-------+-------+------+\n",
      "\n",
      "+-----+--------+----+------------+---------+------+-------+----+---+\n",
      "|ended|language|name|officialSite|premiered|status|summary|type|url|\n",
      "+-----+--------+----+------------+---------+------+-------+----+---+\n",
      "|14216|     360|   0|       21204|     2522|     0|   6952|   0|  0|\n",
      "+-----+--------+----+------------+---------+------+-------+----+---+\n",
      "\n"
     ]
    }
   ],
   "source": [
    "numeric_cols = [c for c,t in df.dtypes if t in ('bigint')]\n",
    "string_cols = [c for c,t in df.dtypes if t in ('string')]\n",
    "df[numeric_cols].select([count(when(col(c).isNull(), c)).alias(c) for c in df[numeric_cols].columns]).show()\n",
    "df[string_cols].select([count(when(col(c).isNull(), c)).alias(c) for c in df[string_cols].columns]).show()"
   ]
  },
  {
   "attachments": {},
   "cell_type": "markdown",
   "metadata": {},
   "source": [
    "Learning how to use regexp_replace"
   ]
  },
  {
   "cell_type": "code",
   "execution_count": 7,
   "metadata": {},
   "outputs": [],
   "source": [
    "# df = df.withColumn(\"summary\",(regexp_replace(\"summary\",\"<p>\", \"\")))\\\n",
    "#     .withColumn(\"summary\",(regexp_replace(\"summary\",\"</p>\", \"\")))\\\n",
    "#     .withColumn(\"summary\",(regexp_replace(\"summary\",\"<b>\", \"\")))\\\n",
    "#     .withColumn(\"summary\",(regexp_replace(\"summary\",\"</b>\", \"\")))\\\n",
    "#     .withColumn(\"summary\",(regexp_replace(\"summary\",\"<i>\", \"\")))\\\n",
    "#     .withColumn(\"summary\",(regexp_replace(\"summary\",\"</i>\", \"\")))\\\n",
    "#     .withColumn(\"summary\",(regexp_replace(\"summary\",\"&amp;\", \"&\")))\n",
    "    \n",
    "# df.select('summary').show(20, truncate=False)"
   ]
  },
  {
   "attachments": {},
   "cell_type": "markdown",
   "metadata": {},
   "source": [
    "Enables me to see a snippet of data for each column"
   ]
  },
  {
   "cell_type": "code",
   "execution_count": 8,
   "metadata": {},
   "outputs": [
    {
     "name": "stdout",
     "output_type": "stream",
     "text": [
      "+-------------------------------------------------------------------------------------+\n",
      "|_links                                                                               |\n",
      "+-------------------------------------------------------------------------------------+\n",
      "|{null, {https://api.tvmaze.com/episodes/1051658}, {https://api.tvmaze.com/shows/250}}|\n",
      "|{null, {https://api.tvmaze.com/episodes/623237}, {https://api.tvmaze.com/shows/251}} |\n",
      "|{null, {https://api.tvmaze.com/episodes/1011244}, {https://api.tvmaze.com/shows/252}}|\n",
      "|{null, {https://api.tvmaze.com/episodes/2118484}, {https://api.tvmaze.com/shows/253}}|\n",
      "|{null, {https://api.tvmaze.com/episodes/1684225}, {https://api.tvmaze.com/shows/254}}|\n",
      "+-------------------------------------------------------------------------------------+\n",
      "only showing top 5 rows\n",
      "\n",
      "+--------------+\n",
      "|averageRuntime|\n",
      "+--------------+\n",
      "|30            |\n",
      "|71            |\n",
      "|30            |\n",
      "|60            |\n",
      "|65            |\n",
      "+--------------+\n",
      "only showing top 5 rows\n",
      "\n",
      "+----------+\n",
      "|dvdCountry|\n",
      "+----------+\n",
      "|null      |\n",
      "|null      |\n",
      "|null      |\n",
      "|null      |\n",
      "|null      |\n",
      "+----------+\n",
      "only showing top 5 rows\n",
      "\n",
      "+----------+\n",
      "|ended     |\n",
      "+----------+\n",
      "|2017-02-02|\n",
      "|2015-12-25|\n",
      "|2017-01-20|\n",
      "|null      |\n",
      "|null      |\n",
      "+----------+\n",
      "only showing top 5 rows\n",
      "\n",
      "+--------------------------+\n",
      "|externals                 |\n",
      "+--------------------------+\n",
      "|{tt3544772, 278449, 37394}|\n",
      "|{tt1606375, 193131, 26615}|\n",
      "|{tt2543796, 267777, 33436}|\n",
      "|{tt0437005, 74897, 3828}  |\n",
      "|{tt2733512, 79028, 16764} |\n",
      "+--------------------------+\n",
      "only showing top 5 rows\n",
      "\n",
      "+------------------------+\n",
      "|genres                  |\n",
      "+------------------------+\n",
      "|[Comedy]                |\n",
      "|[Drama, Family, Romance]|\n",
      "|[Drama, Comedy, Family] |\n",
      "|[Food]                  |\n",
      "|[]                      |\n",
      "+------------------------+\n",
      "only showing top 5 rows\n",
      "\n",
      "+---+\n",
      "|id |\n",
      "+---+\n",
      "|250|\n",
      "|251|\n",
      "|252|\n",
      "|253|\n",
      "|254|\n",
      "+---+\n",
      "only showing top 5 rows\n",
      "\n",
      "+-----------------------------------------------------------------------------------------------------------------------------------------------------+\n",
      "|image                                                                                                                                                |\n",
      "+-----------------------------------------------------------------------------------------------------------------------------------------------------+\n",
      "|{https://static.tvmaze.com/uploads/images/medium_portrait/1/4600.jpg, https://static.tvmaze.com/uploads/images/original_untouched/1/4600.jpg}        |\n",
      "|{https://static.tvmaze.com/uploads/images/medium_portrait/1/4601.jpg, https://static.tvmaze.com/uploads/images/original_untouched/1/4601.jpg}        |\n",
      "|{https://static.tvmaze.com/uploads/images/medium_portrait/316/792450.jpg, https://static.tvmaze.com/uploads/images/original_untouched/316/792450.jpg}|\n",
      "|{https://static.tvmaze.com/uploads/images/medium_portrait/324/811405.jpg, https://static.tvmaze.com/uploads/images/original_untouched/324/811405.jpg}|\n",
      "|{https://static.tvmaze.com/uploads/images/medium_portrait/1/4656.jpg, https://static.tvmaze.com/uploads/images/original_untouched/1/4656.jpg}        |\n",
      "+-----------------------------------------------------------------------------------------------------------------------------------------------------+\n",
      "only showing top 5 rows\n",
      "\n",
      "+--------+\n",
      "|language|\n",
      "+--------+\n",
      "|English |\n",
      "|English |\n",
      "|English |\n",
      "|English |\n",
      "|English |\n",
      "+--------+\n",
      "only showing top 5 rows\n",
      "\n",
      "+---------------------+\n",
      "|name                 |\n",
      "+---------------------+\n",
      "|Kirby Buckets        |\n",
      "|Downton Abbey        |\n",
      "|Girl Meets World     |\n",
      "|Hell's Kitchen       |\n",
      "|World Series of Poker|\n",
      "+---------------------+\n",
      "only showing top 5 rows\n",
      "\n",
      "+-----------------------------------------------------------+\n",
      "|network                                                    |\n",
      "+-----------------------------------------------------------+\n",
      "|{{US, United States, America/New_York}, 25, Disney XD}     |\n",
      "|{{GB, United Kingdom, Europe/London}, 35, ITV}             |\n",
      "|{{US, United States, America/New_York}, 78, Disney Channel}|\n",
      "|{{US, United States, America/New_York}, 4, FOX}            |\n",
      "|{{US, United States, America/New_York}, 180, ESPN2}        |\n",
      "+-----------------------------------------------------------+\n",
      "only showing top 5 rows\n",
      "\n",
      "+------------------------------------------------+\n",
      "|officialSite                                    |\n",
      "+------------------------------------------------+\n",
      "|http://disneyxd.disney.com/kirby-buckets        |\n",
      "|http://www.itv.com/downtonabbey                 |\n",
      "|http://disneychannel.disney.com/girl-meets-world|\n",
      "|https://www.fox.com/hells-kitchen               |\n",
      "|null                                            |\n",
      "+------------------------------------------------+\n",
      "only showing top 5 rows\n",
      "\n",
      "+----------+\n",
      "|premiered |\n",
      "+----------+\n",
      "|2014-10-20|\n",
      "|2010-09-26|\n",
      "|2014-06-27|\n",
      "|2005-05-30|\n",
      "|2006-08-22|\n",
      "+----------+\n",
      "only showing top 5 rows\n",
      "\n",
      "+------+\n",
      "|rating|\n",
      "+------+\n",
      "|{null}|\n",
      "|{9.1} |\n",
      "|{7.7} |\n",
      "|{7.1} |\n",
      "|{9.0} |\n",
      "+------+\n",
      "only showing top 5 rows\n",
      "\n",
      "+-------+\n",
      "|runtime|\n",
      "+-------+\n",
      "|30     |\n",
      "|60     |\n",
      "|30     |\n",
      "|60     |\n",
      "|60     |\n",
      "+-------+\n",
      "only showing top 5 rows\n",
      "\n",
      "+-------------------------------------------------------+\n",
      "|schedule                                               |\n",
      "+-------------------------------------------------------+\n",
      "|{[Monday, Tuesday, Wednesday, Thursday, Friday], 07:00}|\n",
      "|{[Sunday], 21:00}                                      |\n",
      "|{[Friday], 18:00}                                      |\n",
      "|{[Monday], 20:00}                                      |\n",
      "|{[Monday, Tuesday, Sunday], 21:00}                     |\n",
      "+-------------------------------------------------------+\n",
      "only showing top 5 rows\n",
      "\n",
      "+-------+\n",
      "|status |\n",
      "+-------+\n",
      "|Ended  |\n",
      "|Ended  |\n",
      "|Ended  |\n",
      "|Running|\n",
      "|Running|\n",
      "+-------+\n",
      "only showing top 5 rows\n",
      "\n",
      "+-------------------------------------------------------------------------------------------------------------------------------------------------------------------------------------------------------------------------------------------------------------------------------------------------------------------------------------------------------------------------------------------------------------------------------------------------------------------------------------------------------------------------------------------------------------------------------------------------------------------------------------------------------------------------------------------------------------------------------------------------------------------------------------------------------------------------------------------------------------------------------------------------------------------------------------------------------------------------------------------------------------------------------------------------------------------------------------------------------------------------------------------------------------------------------------+\n",
      "|summary                                                                                                                                                                                                                                                                                                                                                                                                                                                                                                                                                                                                                                                                                                                                                                                                                                                                                                                                                                                                                                                                                                                                                                              |\n",
      "+-------------------------------------------------------------------------------------------------------------------------------------------------------------------------------------------------------------------------------------------------------------------------------------------------------------------------------------------------------------------------------------------------------------------------------------------------------------------------------------------------------------------------------------------------------------------------------------------------------------------------------------------------------------------------------------------------------------------------------------------------------------------------------------------------------------------------------------------------------------------------------------------------------------------------------------------------------------------------------------------------------------------------------------------------------------------------------------------------------------------------------------------------------------------------------------+\n",
      "|<p>The single-camera series that mixes live-action and animation stars Jacob Bertrand as the title character. <b>Kirby Buckets</b> introduces viewers to the vivid imagination of charismatic 13-year-old Kirby Buckets, who dreams of becoming a famous animator like his idol, Mac MacCallister. With his two best friends, Fish and Eli, by his side, Kirby navigates his eccentric town of Forest Hills where the trio usually find themselves trying to get out of a predicament before Kirby's sister, Dawn, and her best friend, Belinda, catch them. Along the way, Kirby is joined by his animated characters, each with their own vibrant personality that only he and viewers can see.</p>                                                                                                                                                                                                                                                                                                                                                                                                                                                                                |\n",
      "|<p>The Downton Abbey estate stands a splendid example of confidence and mettle, its family enduring for generations and its staff a well-oiled machine of propriety. But change is afoot at Downton--change far surpassing the new electric lights and telephone. A crisis of inheritance threatens to displace the resident Crawley family, in spite of the best efforts of the noble and compassionate Earl, Robert Crawley; his American heiress wife, Cora his comically implacable, opinionated mother, Violet and his beautiful, eldest daughter, Mary, intent on charting her own course. Reluctantly, the family is forced to welcome its heir apparent, the self-made and proudly modern Matthew Crawley himself none too happy about the new arrangements. As Matthew's bristly relationship with Mary begins to crackle with electricity, hope for the future of Downton's dynasty takes shape. But when petty jealousies and ambitions grow among the family and the staff, scheming and secrets--both delicious and dangerous--threaten to derail the scramble to preserve Downton Abbey. <i>Downton Abbey</i> offers a spot-on portrait of a vanishing way of life.</p>|\n",
      "|<p><b>Girl Meets World</b> is based on ABC's hugely popular sitcom, Boy Meets World (1993). Set in New York City, the show tells the wonderfully funny heartfelt stories that Boy Meets World is renowned for - only this time from a tween girl's perspective - as the curious and bright 7th grader Riley Matthews and her quick-witted friend Maya Fox embark on an unforgettable middle school experience. But their plans for a carefree year will be adjusted slightly under the watchful eyes of Riley's parents - dad Cory, who's also a faculty member (and their new History teacher), and mom Topanga, who owns a trendy after school hangout that specializes in pudding.</p>                                                                                                                                                                                                                                                                                                                                                                                                                                                                                            |\n",
      "|<p>In <b>Hell's Kitchen</b>, aspiring chefs are put through an intense culinary academy to prove they possess the right combination of ingredients to win a life-changing grand prize.</p>                                                                                                                                                                                                                                                                                                                                                                                                                                                                                                                                                                                                                                                                                                                                                                                                                                                                                                                                                                                           |\n",
      "|<p>The <b>World Series of Poker</b> is where the world's best poker players battle for the title.</p>                                                                                                                                                                                                                                                                                                                                                                                                                                                                                                                                                                                                                                                                                                                                                                                                                                                                                                                                                                                                                                                                                |\n",
      "+-------------------------------------------------------------------------------------------------------------------------------------------------------------------------------------------------------------------------------------------------------------------------------------------------------------------------------------------------------------------------------------------------------------------------------------------------------------------------------------------------------------------------------------------------------------------------------------------------------------------------------------------------------------------------------------------------------------------------------------------------------------------------------------------------------------------------------------------------------------------------------------------------------------------------------------------------------------------------------------------------------------------------------------------------------------------------------------------------------------------------------------------------------------------------------------+\n",
      "only showing top 5 rows\n",
      "\n",
      "+--------+\n",
      "|type    |\n",
      "+--------+\n",
      "|Scripted|\n",
      "|Scripted|\n",
      "|Scripted|\n",
      "|Reality |\n",
      "|Sports  |\n",
      "+--------+\n",
      "only showing top 5 rows\n",
      "\n",
      "+----------+\n",
      "|updated   |\n",
      "+----------+\n",
      "|1617744408|\n",
      "|1627415536|\n",
      "|1621082326|\n",
      "|1631607953|\n",
      "|1574298803|\n",
      "+----------+\n",
      "only showing top 5 rows\n",
      "\n",
      "+------------------------------------------------------+\n",
      "|url                                                   |\n",
      "+------------------------------------------------------+\n",
      "|https://www.tvmaze.com/shows/250/kirby-buckets        |\n",
      "|https://www.tvmaze.com/shows/251/downton-abbey        |\n",
      "|https://www.tvmaze.com/shows/252/girl-meets-world     |\n",
      "|https://www.tvmaze.com/shows/253/hells-kitchen        |\n",
      "|https://www.tvmaze.com/shows/254/world-series-of-poker|\n",
      "+------------------------------------------------------+\n",
      "only showing top 5 rows\n",
      "\n",
      "+------------------------------------------------------+\n",
      "|webChannel                                            |\n",
      "+------------------------------------------------------+\n",
      "|{{US, United States, America/New_York}, 83, DisneyNOW}|\n",
      "|null                                                  |\n",
      "|{{US, United States, America/New_York}, 83, DisneyNOW}|\n",
      "|null                                                  |\n",
      "|null                                                  |\n",
      "+------------------------------------------------------+\n",
      "only showing top 5 rows\n",
      "\n",
      "+------+\n",
      "|weight|\n",
      "+------+\n",
      "|69    |\n",
      "|96    |\n",
      "|72    |\n",
      "|93    |\n",
      "|77    |\n",
      "+------+\n",
      "only showing top 5 rows\n",
      "\n"
     ]
    }
   ],
   "source": [
    "df.columns\n",
    "\n",
    "for column in df.columns:\n",
    "    df.select(column).show(5, truncate=False)"
   ]
  },
  {
   "attachments": {},
   "cell_type": "markdown",
   "metadata": {},
   "source": [
    "Drops the columns I don't need"
   ]
  },
  {
   "cell_type": "code",
   "execution_count": 9,
   "metadata": {},
   "outputs": [],
   "source": [
    "df = df.drop('_links', 'weight', 'url', 'officialSite', 'externals', 'image', 'summary', 'updated', 'webChannel', 'id', 'dvdCountry')"
   ]
  },
  {
   "attachments": {},
   "cell_type": "markdown",
   "metadata": {},
   "source": [
    "Drops the rows where the rating is null"
   ]
  },
  {
   "cell_type": "code",
   "execution_count": 10,
   "metadata": {},
   "outputs": [
    {
     "name": "stdout",
     "output_type": "stream",
     "text": [
      "+-------------------------------------------------------+\n",
      "|count(CASE WHEN (rating.average IS NULL) THEN true END)|\n",
      "+-------------------------------------------------------+\n",
      "|                                                      0|\n",
      "+-------------------------------------------------------+\n",
      "\n"
     ]
    }
   ],
   "source": [
    "df = df.dropna(subset=['rating.average'], how='any')\n",
    "df.select([count(when(col('rating.average').isNull(),True))]).show()"
   ]
  },
  {
   "attachments": {},
   "cell_type": "markdown",
   "metadata": {},
   "source": [
    "This re-assigns the rating column from being a structType, to a doubleType, with no nested content"
   ]
  },
  {
   "cell_type": "code",
   "execution_count": 11,
   "metadata": {},
   "outputs": [],
   "source": [
    "df = df.withColumn('rating', df.rating.average)"
   ]
  },
  {
   "attachments": {},
   "cell_type": "markdown",
   "metadata": {},
   "source": [
    "Most popular language for tv shows"
   ]
  },
  {
   "cell_type": "code",
   "execution_count": 12,
   "metadata": {},
   "outputs": [
    {
     "name": "stdout",
     "output_type": "stream",
     "text": [
      "+-------------+---------------+\n",
      "|     language|count(language)|\n",
      "+-------------+---------------+\n",
      "|         null|              0|\n",
      "|   Vietnamese|              1|\n",
      "|    Hungarian|              1|\n",
      "|        Irish|              1|\n",
      "|Luxembourgish|              1|\n",
      "|      Catalan|              1|\n",
      "|     Romanian|              1|\n",
      "|      Serbian|              1|\n",
      "|        Latin|              1|\n",
      "|       Arabic|              2|\n",
      "|      Tagalog|              2|\n",
      "|    Ukrainian|              2|\n",
      "|    Icelandic|              3|\n",
      "|        Welsh|              3|\n",
      "|      Finnish|              4|\n",
      "|       Polish|              8|\n",
      "|       Hebrew|              8|\n",
      "|        Hindi|              9|\n",
      "|   Portuguese|             11|\n",
      "|      Italian|             12|\n",
      "+-------------+---------------+\n",
      "only showing top 20 rows\n",
      "\n"
     ]
    }
   ],
   "source": [
    "df.groupBy('language').agg(count('language')).orderBy('count(language)', ascending=True).show()"
   ]
  },
  {
   "attachments": {},
   "cell_type": "markdown",
   "metadata": {},
   "source": [
    "Average rating per language."
   ]
  },
  {
   "cell_type": "code",
   "execution_count": 13,
   "metadata": {},
   "outputs": [
    {
     "name": "stdout",
     "output_type": "stream",
     "text": [
      "+-------------+--------------+\n",
      "|     language|average rating|\n",
      "+-------------+--------------+\n",
      "|      Serbian|           8.8|\n",
      "|    Ukrainian|           8.6|\n",
      "|        Irish|           8.4|\n",
      "|    Hungarian|           8.4|\n",
      "|      Catalan|           8.3|\n",
      "|     Romanian|           8.3|\n",
      "|   Vietnamese|           8.0|\n",
      "|Luxembourgish|           8.0|\n",
      "|         Thai|           7.8|\n",
      "|       Korean|           7.8|\n",
      "|       Hebrew|           7.7|\n",
      "|    Norwegian|           7.6|\n",
      "|        Welsh|           7.6|\n",
      "|       French|           7.5|\n",
      "|       Danish|           7.5|\n",
      "|      Chinese|           7.4|\n",
      "|      Swedish|           7.4|\n",
      "|      Finnish|           7.4|\n",
      "|      Turkish|           7.3|\n",
      "|     Japanese|           7.3|\n",
      "+-------------+--------------+\n",
      "only showing top 20 rows\n",
      "\n"
     ]
    }
   ],
   "source": [
    "df.groupBy('language').agg(round(avg('rating'), 1).alias('average rating')).orderBy('average rating', ascending=False).show()"
   ]
  },
  {
   "attachments": {},
   "cell_type": "markdown",
   "metadata": {},
   "source": [
    "Average rating per language, taking into account languages with bias.\\\n",
    "For example the language Serbian only has one show rating, so the mean for that language is skewed."
   ]
  },
  {
   "cell_type": "code",
   "execution_count": 14,
   "metadata": {},
   "outputs": [
    {
     "name": "stdout",
     "output_type": "stream",
     "text": [
      "+----------+--------------+\n",
      "|  language|average rating|\n",
      "+----------+--------------+\n",
      "|      Thai|           7.8|\n",
      "|    Korean|           7.8|\n",
      "|    Hebrew|           7.7|\n",
      "| Norwegian|           7.6|\n",
      "|    Danish|           7.5|\n",
      "|    French|           7.5|\n",
      "|   Chinese|           7.4|\n",
      "|   Swedish|           7.4|\n",
      "|   Russian|           7.3|\n",
      "|    German|           7.3|\n",
      "|   Turkish|           7.3|\n",
      "|  Japanese|           7.3|\n",
      "|     Dutch|           7.3|\n",
      "|   Italian|           7.2|\n",
      "|    Polish|           7.2|\n",
      "|   English|           7.1|\n",
      "|   Spanish|           6.7|\n",
      "|     Hindi|           6.5|\n",
      "|Portuguese|           6.1|\n",
      "+----------+--------------+\n",
      "\n"
     ]
    }
   ],
   "source": [
    "df.groupBy('language')\\\n",
    "    .agg(round(avg('rating'), 1).alias('average rating'))\\\n",
    "    .orderBy('average rating', ascending=False)\\\n",
    "    .filter(('language != \"Vietnamese\" and language != \"Hungarian\" and language != \"Irish\" and language != \"Luxembourgish\" and language != \"Catalan\" and language != \"Romanian\" and language != \"Serbian\" and language != \"Latin\" and language != \"Arabic\" and language != \"Tagalog\" and language != \"Ukrainian\" and language != \"Icelandic\" and language != \"Welsh\" and language != \"Finnish\"'))\\\n",
    "    .show()"
   ]
  },
  {
   "attachments": {},
   "cell_type": "markdown",
   "metadata": {},
   "source": [
    "Top show for each language based on rating"
   ]
  },
  {
   "cell_type": "code",
   "execution_count": 15,
   "metadata": {},
   "outputs": [],
   "source": [
    "a = df.groupBy('name', 'language').agg(max('rating')).orderBy('max(rating)', ascending=False)"
   ]
  },
  {
   "cell_type": "code",
   "execution_count": 16,
   "metadata": {},
   "outputs": [
    {
     "name": "stdout",
     "output_type": "stream",
     "text": [
      "Show: Aşk 101\n",
      "Language: Turkish\n",
      "\n",
      "Show: Romulus\n",
      "Language: Latin\n",
      "\n",
      "Show: Sorjonen\n",
      "Language: Finnish\n",
      "\n",
      "Show: En of Love: Love Mechanics\n",
      "Language: Thai\n",
      "\n",
      "Show: Ófærð\n",
      "Language: Icelandic\n",
      "\n",
      "Show: A Love So Beautiful\n",
      "Language: Chinese\n",
      "\n",
      "Show: #@)₴?$0 з Майклом Щуром\n",
      "Language: Ukrainian\n",
      "\n",
      "Show: Red Rock\n",
      "Language: Irish\n",
      "\n",
      "Show: Sexify\n",
      "Language: Polish\n",
      "\n",
      "Show: Gaya Sa Pelikula\n",
      "Language: Tagalog\n",
      "\n",
      "Show: Paradise Kiss\n",
      "Language: Japanese\n",
      "\n",
      "Show: Critical Role\n",
      "Language: English\n",
      "\n",
      "Show: El Internado\n",
      "Language: Spanish\n",
      "\n",
      "Show: You Are Ma Boy\n",
      "Language: Vietnamese\n",
      "\n",
      "Show: Hostages\n",
      "Language: Hebrew\n",
      "\n",
      "Show: Senke nad Balkanom\n",
      "Language: Serbian\n",
      "\n",
      "Show: Bom dia, Verônica\n",
      "Language: Portuguese\n",
      "\n",
      "Show: Aranyélet\n",
      "Language: Hungarian\n",
      "\n",
      "Show: Il commissario Montalbano\n",
      "Language: Italian\n",
      "\n",
      "Show: Capitani\n",
      "Language: Luxembourgish\n",
      "\n",
      "Show: 1864\n",
      "Language: Danish\n",
      "\n",
      "Show: Merlí\n",
      "Language: Catalan\n",
      "\n",
      "Show: Umbre\n",
      "Language: Romanian\n",
      "\n",
      "Show: Шифр\n",
      "Language: Russian\n",
      "\n",
      "Show: Navillera\n",
      "Language: Korean\n",
      "\n",
      "Show: Leila\n",
      "Language: Hindi\n",
      "\n",
      "Show: Les Témoins\n",
      "Language: French\n",
      "\n",
      "Show: Brille\n",
      "Language: Norwegian\n",
      "\n",
      "Show: Eigen Kweek\n",
      "Language: Dutch\n",
      "\n",
      "Show: Paranormal\n",
      "Language: Arabic\n",
      "\n",
      "Show: Das Boot\n",
      "Language: German\n",
      "\n",
      "Show: Hinterland\n",
      "Language: Welsh\n",
      "\n",
      "Show: Gåsmamman\n",
      "Language: Swedish\n",
      "\n"
     ]
    }
   ],
   "source": [
    "lang = []\n",
    "for element in a.select('language').distinct().collect():\n",
    "    lang.append(element[0])\n",
    "\n",
    "for l in lang:\n",
    "    rows = a.select('name', 'language').filter(f\"language = '{l}'\").collect()\n",
    "    for row in rows:\n",
    "        print(f\"Show: {row.asDict()['name']}\\nLanguage: {row.asDict()['language']}\\n\")\n",
    "        break"
   ]
  }
 ],
 "metadata": {
  "kernelspec": {
   "display_name": "venv",
   "language": "python",
   "name": "python3"
  },
  "language_info": {
   "codemirror_mode": {
    "name": "ipython",
    "version": 3
   },
   "file_extension": ".py",
   "mimetype": "text/x-python",
   "name": "python",
   "nbconvert_exporter": "python",
   "pygments_lexer": "ipython3",
   "version": "3.11.1"
  },
  "orig_nbformat": 4,
  "vscode": {
   "interpreter": {
    "hash": "9ef35089b387a514fce1d1aa2288e5164b31d47d8e47cc4e32d64c1d2357104c"
   }
  }
 },
 "nbformat": 4,
 "nbformat_minor": 2
}
