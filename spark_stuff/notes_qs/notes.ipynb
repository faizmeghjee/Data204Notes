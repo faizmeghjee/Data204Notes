{
 "cells": [
  {
   "cell_type": "code",
   "execution_count": 2,
   "metadata": {},
   "outputs": [],
   "source": [
    "from pyspark.sql import SparkSession\n",
    "from pyspark.sql.types import StructType, StructField, StringType, IntegerType, DateType\n",
    "from pyspark.sql.functions import col, desc, asc, avg, sum, max, min, mean, count, round\n",
    "\n",
    "spark = SparkSession.builder.appName(\"local_spark\").getOrCreate()"
   ]
  },
  {
   "cell_type": "code",
   "execution_count": 3,
   "metadata": {},
   "outputs": [
    {
     "data": {
      "text/html": [
       "\n",
       "            <div>\n",
       "                <p><b>SparkSession - in-memory</b></p>\n",
       "                \n",
       "        <div>\n",
       "            <p><b>SparkContext</b></p>\n",
       "\n",
       "            <p><a href=\"http://faizm:4040\">Spark UI</a></p>\n",
       "\n",
       "            <dl>\n",
       "              <dt>Version</dt>\n",
       "                <dd><code>v3.3.1</code></dd>\n",
       "              <dt>Master</dt>\n",
       "                <dd><code>local[*]</code></dd>\n",
       "              <dt>AppName</dt>\n",
       "                <dd><code>local_spark</code></dd>\n",
       "            </dl>\n",
       "        </div>\n",
       "        \n",
       "            </div>\n",
       "        "
      ],
      "text/plain": [
       "<pyspark.sql.session.SparkSession at 0x23e3379c610>"
      ]
     },
     "execution_count": 3,
     "metadata": {},
     "output_type": "execute_result"
    }
   ],
   "source": [
    "spark"
   ]
  },
  {
   "attachments": {},
   "cell_type": "markdown",
   "metadata": {},
   "source": [
    "1)\tRead data from CSV"
   ]
  },
  {
   "attachments": {},
   "cell_type": "markdown",
   "metadata": {},
   "source": [
    "inferSchema=True assumes datatype"
   ]
  },
  {
   "cell_type": "code",
   "execution_count": 8,
   "metadata": {},
   "outputs": [],
   "source": [
    "sparkdf = spark.read.csv('students.csv',header=True)"
   ]
  },
  {
   "attachments": {},
   "cell_type": "markdown",
   "metadata": {},
   "source": [
    "2)\tPrint 5 rows ( !!! head() method behaves differently in pySpark)"
   ]
  },
  {
   "attachments": {},
   "cell_type": "markdown",
   "metadata": {},
   "source": [
    "Matrix"
   ]
  },
  {
   "cell_type": "code",
   "execution_count": 9,
   "metadata": {},
   "outputs": [
    {
     "data": {
      "text/plain": [
       "[Row(id='1', name='Emily Hardie', class='Four', mark='75', gender='female'),\n",
       " Row(id='2', name='John Star', class='Three', mark='85', gender='male'),\n",
       " Row(id='3', name='Arnold Walker ', class='Three', mark='55', gender='male'),\n",
       " Row(id='4', name='Reana Talu', class='Four', mark='60', gender='female'),\n",
       " Row(id='5', name='Sidona Williams', class='Four', mark='60', gender='female')]"
      ]
     },
     "execution_count": 9,
     "metadata": {},
     "output_type": "execute_result"
    }
   ],
   "source": [
    "sparkdf.head(5)"
   ]
  },
  {
   "attachments": {},
   "cell_type": "markdown",
   "metadata": {},
   "source": [
    "Table"
   ]
  },
  {
   "cell_type": "code",
   "execution_count": 10,
   "metadata": {},
   "outputs": [
    {
     "name": "stdout",
     "output_type": "stream",
     "text": [
      "+---+---------------+-----+----+------+\n",
      "| id|           name|class|mark|gender|\n",
      "+---+---------------+-----+----+------+\n",
      "|  1|   Emily Hardie| Four|  75|female|\n",
      "|  2|      John Star|Three|  85|  male|\n",
      "|  3| Arnold Walker |Three|  55|  male|\n",
      "|  4|     Reana Talu| Four|  60|female|\n",
      "|  5|Sidona Williams| Four|  60|female|\n",
      "+---+---------------+-----+----+------+\n",
      "only showing top 5 rows\n",
      "\n"
     ]
    }
   ],
   "source": [
    "sparkdf.show(5)"
   ]
  },
  {
   "cell_type": "code",
   "execution_count": null,
   "metadata": {},
   "outputs": [],
   "source": [
    "# sparkdf2=spark.read.format('csv').option('inferSchema',True).option('header',True).option('sep',True).load('students.csv')"
   ]
  },
  {
   "attachments": {},
   "cell_type": "markdown",
   "metadata": {},
   "source": [
    "3)\tShow schema of the spark data frame."
   ]
  },
  {
   "cell_type": "code",
   "execution_count": 11,
   "metadata": {},
   "outputs": [
    {
     "name": "stdout",
     "output_type": "stream",
     "text": [
      "root\n",
      " |-- id: string (nullable = true)\n",
      " |-- name: string (nullable = true)\n",
      " |-- class: string (nullable = true)\n",
      " |-- mark: string (nullable = true)\n",
      " |-- gender: string (nullable = true)\n",
      "\n"
     ]
    }
   ],
   "source": [
    "sparkdf.printSchema()"
   ]
  },
  {
   "attachments": {},
   "cell_type": "markdown",
   "metadata": {},
   "source": [
    "4)\tUpdate schema after reading form CSV. (StructField)"
   ]
  },
  {
   "cell_type": "code",
   "execution_count": 15,
   "metadata": {},
   "outputs": [],
   "source": [
    "schema = StructType([\n",
    "        StructField(\"id\", IntegerType(), False),\n",
    "        StructField(\"name\", StringType(), True),\n",
    "        StructField(\"class\", StringType(), True),\n",
    "        StructField(\"mark\", IntegerType(), True),\n",
    "        StructField(\"gender\", StringType(), True)])\n",
    "\n",
    "df = spark.read.csv('students.csv', header=True, schema=schema)\n",
    "df.printSchema()\n",
    "df.show()"
   ]
  },
  {
   "attachments": {},
   "cell_type": "markdown",
   "metadata": {},
   "source": [
    "Updates schema without reading file again"
   ]
  },
  {
   "cell_type": "code",
   "execution_count": 14,
   "metadata": {},
   "outputs": [
    {
     "name": "stdout",
     "output_type": "stream",
     "text": [
      "root\n",
      " |-- id: integer (nullable = true)\n",
      " |-- name: string (nullable = true)\n",
      " |-- class: string (nullable = true)\n",
      " |-- MARK: string (nullable = true)\n",
      " |-- gender: string (nullable = true)\n",
      "\n"
     ]
    }
   ],
   "source": [
    "df.withColumn('mark', col('mark').cast(StringType())).printSchema()"
   ]
  },
  {
   "attachments": {},
   "cell_type": "markdown",
   "metadata": {},
   "source": [
    "5)\tGive schema as option while reading from CSV"
   ]
  },
  {
   "cell_type": "code",
   "execution_count": 16,
   "metadata": {},
   "outputs": [],
   "source": [
    "df = spark.read.csv('students.csv', header=True, schema=schema)"
   ]
  },
  {
   "attachments": {},
   "cell_type": "markdown",
   "metadata": {},
   "source": [
    "6)\tShow columns and show summary statistics of numeric columns"
   ]
  },
  {
   "attachments": {},
   "cell_type": "markdown",
   "metadata": {},
   "source": [
    "No quartiles"
   ]
  },
  {
   "cell_type": "code",
   "execution_count": 17,
   "metadata": {},
   "outputs": [
    {
     "name": "stdout",
     "output_type": "stream",
     "text": [
      "+-------+------------------+------------+-----+-----------------+------+\n",
      "|summary|                id|        name|class|             mark|gender|\n",
      "+-------+------------------+------------+-----+-----------------+------+\n",
      "|  count|                35|          35|   35|               35|    35|\n",
      "|   mean|              18.0|        null| null|75.51428571428572|  null|\n",
      "| stddev|10.246950765959598|        null| null|13.95448784772974|  null|\n",
      "|    min|                 1|   Alex John| Four|               48|female|\n",
      "|    max|                35|Wookie Davey|  Two|               96|  male|\n",
      "+-------+------------------+------------+-----+-----------------+------+\n",
      "\n"
     ]
    }
   ],
   "source": [
    "df.describe().show()"
   ]
  },
  {
   "attachments": {},
   "cell_type": "markdown",
   "metadata": {},
   "source": [
    "With quartiles"
   ]
  },
  {
   "cell_type": "code",
   "execution_count": 18,
   "metadata": {},
   "outputs": [
    {
     "name": "stdout",
     "output_type": "stream",
     "text": [
      "+-------+------------------+------------+-----+-----------------+------+\n",
      "|summary|                id|        name|class|             mark|gender|\n",
      "+-------+------------------+------------+-----+-----------------+------+\n",
      "|  count|                35|          35|   35|               35|    35|\n",
      "|   mean|              18.0|        null| null|75.51428571428572|  null|\n",
      "| stddev|10.246950765959598|        null| null|13.95448784772974|  null|\n",
      "|    min|                 1|   Alex John| Four|               48|female|\n",
      "|    25%|                 9|        null| null|               60|  null|\n",
      "|    50%|                18|        null| null|               79|  null|\n",
      "|    75%|                27|        null| null|               88|  null|\n",
      "|    max|                35|Wookie Davey|  Two|               96|  male|\n",
      "+-------+------------------+------------+-----+-----------------+------+\n",
      "\n"
     ]
    }
   ],
   "source": [
    "df.summary().show()"
   ]
  },
  {
   "cell_type": "code",
   "execution_count": 56,
   "metadata": {},
   "outputs": [
    {
     "name": "stdout",
     "output_type": "stream",
     "text": [
      "+-------+------------------+-----------------+\n",
      "|summary|                id|             mark|\n",
      "+-------+------------------+-----------------+\n",
      "|  count|                35|               35|\n",
      "|   mean|              18.0|75.51428571428572|\n",
      "| stddev|10.246950765959598|13.95448784772974|\n",
      "|    min|                 1|               48|\n",
      "|    max|                35|               96|\n",
      "+-------+------------------+-----------------+\n",
      "\n"
     ]
    }
   ],
   "source": [
    "numeric_cols = [c for c,t in df.dtypes if t in ('int')] # Finds only columns that have an interger data type\n",
    "\n",
    "df.select(numeric_cols).describe().show()"
   ]
  },
  {
   "attachments": {},
   "cell_type": "markdown",
   "metadata": {},
   "source": [
    "7)\tRead from JSON"
   ]
  },
  {
   "cell_type": "code",
   "execution_count": 20,
   "metadata": {},
   "outputs": [
    {
     "name": "stdout",
     "output_type": "stream",
     "text": [
      "+----+-------+\n",
      "| age|   name|\n",
      "+----+-------+\n",
      "|null|Michael|\n",
      "|  36|   Alan|\n",
      "|  19| Justin|\n",
      "+----+-------+\n",
      "\n"
     ]
    }
   ],
   "source": [
    "json_spark_df = spark.read.json('people.json')\n",
    "json_spark_df.show()"
   ]
  },
  {
   "attachments": {},
   "cell_type": "markdown",
   "metadata": {},
   "source": [
    "8)\tSubset the Dataframe for one and then more than one columns. "
   ]
  },
  {
   "cell_type": "code",
   "execution_count": 30,
   "metadata": {},
   "outputs": [
    {
     "name": "stdout",
     "output_type": "stream",
     "text": [
      "+---+---------------+----+\n",
      "| id|           name|mark|\n",
      "+---+---------------+----+\n",
      "|  1|   Emily Hardie|  75|\n",
      "|  2|      John Star|  85|\n",
      "|  3| Arnold Walker |  55|\n",
      "|  4|     Reana Talu|  60|\n",
      "|  5|Sidona Williams|  60|\n",
      "+---+---------------+----+\n",
      "only showing top 5 rows\n",
      "\n"
     ]
    }
   ],
   "source": [
    "id = df.select('id')\n",
    "\n",
    "# id.show()\n",
    "\n",
    "id_name_mark = df.select(['id','name','mark'])\n",
    "\n",
    "id_name_mark.show(5)"
   ]
  },
  {
   "cell_type": "code",
   "execution_count": 29,
   "metadata": {},
   "outputs": [
    {
     "data": {
      "text/plain": [
       "Column<'id'>"
      ]
     },
     "execution_count": 29,
     "metadata": {},
     "output_type": "execute_result"
    }
   ],
   "source": [
    "df['id']"
   ]
  },
  {
   "attachments": {},
   "cell_type": "markdown",
   "metadata": {},
   "source": [
    "9)\tFilter Data frame based on condition.\\\n",
    "•\tFilter according to gender\\\n",
    "•\tFilter according to mark > 50\\\n",
    "•\tFilter by multiple conditions"
   ]
  },
  {
   "cell_type": "code",
   "execution_count": 34,
   "metadata": {},
   "outputs": [
    {
     "name": "stdout",
     "output_type": "stream",
     "text": [
      "+---+----------------+-----+----+------+\n",
      "| id|            name|class|mark|gender|\n",
      "+---+----------------+-----+----+------+\n",
      "|  2|       John Star|Three|  85|  male|\n",
      "|  3|  Arnold Walker |Three|  55|  male|\n",
      "|  6|       Alex John| Four|  55|  male|\n",
      "|  7|    Robert John |Three|  78|  male|\n",
      "|  8|       Lee Malva| Four|  85|  male|\n",
      "|  9|    Wookie Davey|  Two|  78|  male|\n",
      "| 15|       Scott Row| Four|  88|  male|\n",
      "| 16|     Daniel Page| Four|  88|  male|\n",
      "| 17|  James Williams|Three|  54|  male|\n",
      "| 18|Martin Johnston | Four|  75|  male|\n",
      "| 23|       Sam Adan |Three|  79|  male|\n",
      "| 24|   Nova Prescott|  Two|  78|  male|\n",
      "| 25|  William Taylor| Four|  88|  male|\n",
      "| 26|   Laurin Wilson|Three|  79|  male|\n",
      "| 29|         Ben Day| Four|  55|  male|\n",
      "| 31|      Chris Ball| Four|  88|  male|\n",
      "| 34|   Garry Richard|Three|  69|  male|\n",
      "+---+----------------+-----+----+------+\n",
      "\n"
     ]
    }
   ],
   "source": [
    "# df.filter(df.gender=='male').show()\n",
    "# df.filter(df.mark>50).show()\n",
    "df.filter((df['gender'] == 'male') & (df.mark > 50)).show()"
   ]
  },
  {
   "attachments": {},
   "cell_type": "markdown",
   "metadata": {},
   "source": [
    "10)\tAdd new column,\\\n",
    "•\tNew column name: corrected mark\\\n",
    "•\tIt has values mark + 3"
   ]
  },
  {
   "cell_type": "code",
   "execution_count": 35,
   "metadata": {},
   "outputs": [
    {
     "name": "stdout",
     "output_type": "stream",
     "text": [
      "+---+----------------+-----+----+------+--------------+\n",
      "| id|            name|class|mark|gender|corrected_mark|\n",
      "+---+----------------+-----+----+------+--------------+\n",
      "|  1|    Emily Hardie| Four|  75|female|            78|\n",
      "|  2|       John Star|Three|  85|  male|            88|\n",
      "|  3|  Arnold Walker |Three|  55|  male|            58|\n",
      "|  4|      Reana Talu| Four|  60|female|            63|\n",
      "|  5| Sidona Williams| Four|  60|female|            63|\n",
      "|  6|       Alex John| Four|  55|  male|            58|\n",
      "|  7|    Robert John |Three|  78|  male|            81|\n",
      "|  8|       Lee Malva| Four|  85|  male|            88|\n",
      "|  9|    Wookie Davey|  Two|  78|  male|            81|\n",
      "| 10|      Diane Rose|  Two|  55|female|            58|\n",
      "| 11|    Holly Daives|  Two|  89|female|            92|\n",
      "| 12|        Eva Cup |Three|  94|female|            97|\n",
      "| 13| Victoria Mathew| Four|  88|female|            91|\n",
      "| 14|       Iris Zhao|  Two|  88|female|            91|\n",
      "| 15|       Scott Row| Four|  88|  male|            91|\n",
      "| 16|     Daniel Page| Four|  88|  male|            91|\n",
      "| 17|  James Williams|Three|  54|  male|            57|\n",
      "| 18|Martin Johnston | Four|  75|  male|            78|\n",
      "| 19|     John Smith | Four|  48|  male|            51|\n",
      "| 20|       Lenny Lee|Three|  65|female|            68|\n",
      "+---+----------------+-----+----+------+--------------+\n",
      "only showing top 20 rows\n",
      "\n"
     ]
    }
   ],
   "source": [
    "df.withColumn('corrected_mark', (df.mark + 3)).show()"
   ]
  },
  {
   "attachments": {},
   "cell_type": "markdown",
   "metadata": {},
   "source": [
    "11)\tGroupby gender\\\n",
    "•\tCalculate the average mark for each gender\\\n",
    "•\tMax\\\n",
    "•\tMin"
   ]
  },
  {
   "cell_type": "code",
   "execution_count": 39,
   "metadata": {},
   "outputs": [
    {
     "name": "stdout",
     "output_type": "stream",
     "text": [
      "+------+-----+---+---+\n",
      "|gender|  Avg|Max|Min|\n",
      "+------+-----+---+---+\n",
      "|female|77.53| 96| 55|\n",
      "|  male|73.61| 88| 48|\n",
      "+------+-----+---+---+\n",
      "\n"
     ]
    }
   ],
   "source": [
    "# df.groupBy('gender').avg('mark').show()\n",
    "# df.groupBy('gender').min('mark').show()\n",
    "# df.groupBy('gender').max('mark').show()\n",
    "\n",
    "df.groupBy('gender')\\\n",
    ".agg(\n",
    "(round(avg('mark'),2).alias('Avg')),\n",
    "max('mark').alias('Max'),\n",
    "min('mark').alias('Min'))\\\n",
    ".show()"
   ]
  },
  {
   "attachments": {},
   "cell_type": "markdown",
   "metadata": {},
   "source": [
    "12. Aggregation:\\\n",
    "•\tCalculate the average mark of all students."
   ]
  },
  {
   "cell_type": "code",
   "execution_count": 42,
   "metadata": {},
   "outputs": [
    {
     "name": "stdout",
     "output_type": "stream",
     "text": [
      "+-----------------+\n",
      "|        avg(mark)|\n",
      "+-----------------+\n",
      "|75.51428571428572|\n",
      "+-----------------+\n",
      "\n"
     ]
    }
   ],
   "source": [
    "df.groupBy().avg('mark').show()"
   ]
  },
  {
   "attachments": {},
   "cell_type": "markdown",
   "metadata": {},
   "source": [
    "13)\tOrder by \n",
    "- “class”\n",
    "- “mark”\n",
    "- “mark” and descending order."
   ]
  },
  {
   "cell_type": "code",
   "execution_count": 57,
   "metadata": {},
   "outputs": [
    {
     "name": "stdout",
     "output_type": "stream",
     "text": [
      "+---+---------------+-----+----+------+\n",
      "| id|           name|class|mark|gender|\n",
      "+---+---------------+-----+----+------+\n",
      "| 33|  Elisa Richard| Four|  96|female|\n",
      "| 12|       Eva Cup |Three|  94|female|\n",
      "| 32|       Ela Love| Four|  90|female|\n",
      "| 11|   Holly Daives|  Two|  89|female|\n",
      "| 13|Victoria Mathew| Four|  88|female|\n",
      "| 16|    Daniel Page| Four|  88|  male|\n",
      "| 35|     Ria Wright|  Two|  88|female|\n",
      "| 14|      Iris Zhao|  Two|  88|female|\n",
      "| 15|      Scott Row| Four|  88|  male|\n",
      "| 25| William Taylor| Four|  88|  male|\n",
      "| 31|     Chris Ball| Four|  88|  male|\n",
      "| 28| Emily Thompson| Four|  86|female|\n",
      "|  2|      John Star|Three|  85|  male|\n",
      "|  8|      Lee Malva| Four|  85|  male|\n",
      "| 27|Fatemah Abraham|Three|  81|female|\n",
      "| 26|  Laurin Wilson|Three|  79|  male|\n",
      "| 30|    Rabiya Khan|Three|  79|female|\n",
      "| 23|      Sam Adan |Three|  79|  male|\n",
      "|  7|   Robert John |Three|  78|  male|\n",
      "|  9|   Wookie Davey|  Two|  78|  male|\n",
      "+---+---------------+-----+----+------+\n",
      "only showing top 20 rows\n",
      "\n",
      "+---+---------------+-----+----+------+\n",
      "| id|           name|class|mark|gender|\n",
      "+---+---------------+-----+----+------+\n",
      "| 33|  Elisa Richard| Four|  96|female|\n",
      "| 12|       Eva Cup |Three|  94|female|\n",
      "| 32|       Ela Love| Four|  90|female|\n",
      "| 11|   Holly Daives|  Two|  89|female|\n",
      "| 13|Victoria Mathew| Four|  88|female|\n",
      "| 16|    Daniel Page| Four|  88|  male|\n",
      "| 35|     Ria Wright|  Two|  88|female|\n",
      "| 14|      Iris Zhao|  Two|  88|female|\n",
      "| 15|      Scott Row| Four|  88|  male|\n",
      "| 25| William Taylor| Four|  88|  male|\n",
      "| 31|     Chris Ball| Four|  88|  male|\n",
      "| 28| Emily Thompson| Four|  86|female|\n",
      "|  2|      John Star|Three|  85|  male|\n",
      "|  8|      Lee Malva| Four|  85|  male|\n",
      "| 27|Fatemah Abraham|Three|  81|female|\n",
      "| 26|  Laurin Wilson|Three|  79|  male|\n",
      "| 30|    Rabiya Khan|Three|  79|female|\n",
      "| 23|      Sam Adan |Three|  79|  male|\n",
      "|  7|   Robert John |Three|  78|  male|\n",
      "|  9|   Wookie Davey|  Two|  78|  male|\n",
      "+---+---------------+-----+----+------+\n",
      "only showing top 20 rows\n",
      "\n"
     ]
    }
   ],
   "source": [
    "# sparkdf.orderBy('class').show()\n",
    "# sparkdf.orderBy(asc('mark')).show()\n",
    "sparkdf.orderBy(desc('mark')).show()\n",
    "sparkdf.orderBy('mark', ascending=False).show()"
   ]
  },
  {
   "attachments": {},
   "cell_type": "markdown",
   "metadata": {},
   "source": [
    "14)\tAccess to specific row( hint: collect() method)  and then convert it to dictionary. "
   ]
  },
  {
   "cell_type": "code",
   "execution_count": 53,
   "metadata": {},
   "outputs": [
    {
     "data": {
      "text/plain": [
       "{'id': 12,\n",
       " 'name': 'Eva Cup ',\n",
       " 'class': 'Three',\n",
       " 'mark': 94,\n",
       " 'gender': 'female'}"
      ]
     },
     "metadata": {},
     "output_type": "display_data"
    },
    {
     "name": "stdout",
     "output_type": "stream",
     "text": [
      "{'id': 12, 'name': 'Eva Cup ', 'class': 'Three', 'mark': 94, 'gender': 'female'}\n"
     ]
    },
    {
     "data": {
      "text/plain": [
       "{'id': 33,\n",
       " 'name': 'Elisa Richard',\n",
       " 'class': 'Four',\n",
       " 'mark': 96,\n",
       " 'gender': 'female'}"
      ]
     },
     "metadata": {},
     "output_type": "display_data"
    },
    {
     "name": "stdout",
     "output_type": "stream",
     "text": [
      "{'id': 33, 'name': 'Elisa Richard', 'class': 'Four', 'mark': 96, 'gender': 'female'}\n"
     ]
    }
   ],
   "source": [
    "# first_row = sparkdf.collect()[0]\n",
    "# my_dict = first_row.asDict()\n",
    "# print(first_row)\n",
    "# print(my_dict)\n",
    "rows = df.filter(df.mark > 90).collect()\n",
    "for row in rows:\n",
    "    display(row.asDict())\n",
    "    print(row.asDict())"
   ]
  },
  {
   "attachments": {},
   "cell_type": "markdown",
   "metadata": {},
   "source": [
    "15. Create a view from the dataframe and filter it by using SQL syntax."
   ]
  },
  {
   "cell_type": "code",
   "execution_count": 55,
   "metadata": {},
   "outputs": [
    {
     "name": "stdout",
     "output_type": "stream",
     "text": [
      "+----------------+----+\n",
      "|            name|mark|\n",
      "+----------------+----+\n",
      "|       John Star|  85|\n",
      "|  Arnold Walker |  55|\n",
      "|       Alex John|  55|\n",
      "|    Robert John |  78|\n",
      "|       Lee Malva|  85|\n",
      "|    Wookie Davey|  78|\n",
      "|       Scott Row|  88|\n",
      "|     Daniel Page|  88|\n",
      "|  James Williams|  54|\n",
      "|Martin Johnston |  75|\n",
      "|     John Smith |  48|\n",
      "|       Sam Adan |  79|\n",
      "|   Nova Prescott|  78|\n",
      "|  William Taylor|  88|\n",
      "|   Laurin Wilson|  79|\n",
      "|         Ben Day|  55|\n",
      "|      Chris Ball|  88|\n",
      "|   Garry Richard|  69|\n",
      "+----------------+----+\n",
      "\n"
     ]
    }
   ],
   "source": [
    "df.createOrReplaceTempView('students')\n",
    "spark.sql(\n",
    "    '''\n",
    "    SELECT name, mark \n",
    "    FROM students \n",
    "    WHERE gender = \"male\"\n",
    "    ''')\\\n",
    "    .show()"
   ]
  }
 ],
 "metadata": {
  "kernelspec": {
   "display_name": "venv",
   "language": "python",
   "name": "python3"
  },
  "language_info": {
   "codemirror_mode": {
    "name": "ipython",
    "version": 3
   },
   "file_extension": ".py",
   "mimetype": "text/x-python",
   "name": "python",
   "nbconvert_exporter": "python",
   "pygments_lexer": "ipython3",
   "version": "3.11.1"
  },
  "orig_nbformat": 4,
  "vscode": {
   "interpreter": {
    "hash": "9ef35089b387a514fce1d1aa2288e5164b31d47d8e47cc4e32d64c1d2357104c"
   }
  }
 },
 "nbformat": 4,
 "nbformat_minor": 2
}
