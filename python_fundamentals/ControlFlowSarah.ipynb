{
 "cells": [
  {
   "attachments": {},
   "cell_type": "markdown",
   "metadata": {},
   "source": [
    "1a\\\n",
    "Print only the first 5 numbers in this list"
   ]
  },
  {
   "cell_type": "code",
   "execution_count": null,
   "metadata": {},
   "outputs": [],
   "source": [
    "x = [2, 5, 4, 87, 34, 2, 1, 31, 103, 99]"
   ]
  },
  {
   "attachments": {},
   "cell_type": "markdown",
   "metadata": {},
   "source": [
    "1b\\\n",
    "Now print only the even numbers in this list (the elements that are themselves even)"
   ]
  },
  {
   "cell_type": "code",
   "execution_count": null,
   "metadata": {},
   "outputs": [],
   "source": [
    "x = [2, 5, 4, 87, 34, 2, 1, 31, 103, 99]"
   ]
  },
  {
   "attachments": {},
   "cell_type": "markdown",
   "metadata": {},
   "source": [
    "1c\\\n",
    "Now only print the even numbers up to the fifth element in the list (e.g. 2, 4, 34)"
   ]
  },
  {
   "cell_type": "code",
   "execution_count": null,
   "metadata": {},
   "outputs": [],
   "source": [
    "x = [2, 5, 4, 87, 34, 2, 1, 31, 103, 99]"
   ]
  },
  {
   "attachments": {},
   "cell_type": "markdown",
   "metadata": {},
   "source": [
    "2a\\\n",
    "From the list of names, create another list that consists of only the first letters of each first name\\\n",
    "e.g. [\"Alan Turing\", \"Leonardo Fibonacci\"] -> [\"A\", \"L\"]"
   ]
  },
  {
   "cell_type": "code",
   "execution_count": null,
   "metadata": {},
   "outputs": [],
   "source": [
    "names = [\"Alan Turing\", \"Leonardo Fibonacci\", \"Katherine Johnson\", \"Annie Easley\", \"Terence Tao\"]\n"
   ]
  },
  {
   "attachments": {},
   "cell_type": "markdown",
   "metadata": {},
   "source": [
    "2b\\\n",
    "From the list of names, create another list that consists of only the index of the space in the string\\\n",
    "HINT: use your_string.index(\"substring\")"
   ]
  },
  {
   "cell_type": "code",
   "execution_count": null,
   "metadata": {},
   "outputs": [],
   "source": [
    "names = [\"Alan Turing\", \"Leonardo Fibonacci\", \"Katherine Johnson\", \"Annie Easley\", \"Terence Tao\"]\n"
   ]
  },
  {
   "attachments": {},
   "cell_type": "markdown",
   "metadata": {},
   "source": [
    "2c\\\n",
    "From the list of names, create another list that consists of the first and last initial of each individual"
   ]
  },
  {
   "cell_type": "code",
   "execution_count": null,
   "metadata": {},
   "outputs": [],
   "source": [
    "names = [\"Alan Turing\", \"Leonardo Fibonacci\", \"Katherine Johnson\", \"Annie Easley\", \"Terence Tao\"]\n"
   ]
  },
  {
   "attachments": {},
   "cell_type": "markdown",
   "metadata": {},
   "source": [
    "3a\\\n",
    "Here is a list of lists, print only the lists which have no duplicates\\\n",
    "Hint: This can be easily done by using sets as a set does not contain duplicates"
   ]
  },
  {
   "cell_type": "code",
   "execution_count": null,
   "metadata": {},
   "outputs": [],
   "source": [
    "list_of_lists = [[1,5,7,3,44,4,1],\n",
    "                 [\"A\", \"B\", \"C\"],\n",
    "                 [\"Hi\", \"Hello\", \"Ciao\", \"By\", \"Goodbye\", \"Ciao\"],\n",
    "                 [\"one\", \"Two\", \"Three\", \"Four\"]]\n",
    "\n"
   ]
  },
  {
   "attachments": {},
   "cell_type": "markdown",
   "metadata": {},
   "source": [
    "4a\\\n",
    "Using a while loop, ask the user to input a number greater than 100, if they enter anything else, get them to enter again (and repeat until the conditions are satisfied).\\\n",
    "Finally print the number that they entered"
   ]
  },
  {
   "cell_type": "code",
   "execution_count": null,
   "metadata": {},
   "outputs": [],
   "source": []
  },
  {
   "attachments": {},
   "cell_type": "markdown",
   "metadata": {},
   "source": [
    "4b\\\n",
    "Continue this code and print \"prime\" if the number is a prime number and \"not prime\" otherwise"
   ]
  }
 ],
 "metadata": {
  "language_info": {
   "name": "python"
  },
  "orig_nbformat": 4
 },
 "nbformat": 4,
 "nbformat_minor": 2
}
